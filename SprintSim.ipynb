{
 "cells": [
  {
   "cell_type": "code",
   "execution_count": 2,
   "metadata": {},
   "outputs": [],
   "source": [
    "import numpy as np\n",
    "import altair as alt\n",
    "import pandas as pd"
   ]
  },
  {
   "cell_type": "code",
   "execution_count": 3,
   "metadata": {},
   "outputs": [],
   "source": [
    "# Parameters for the Simulation \n",
    "\n",
    "past_sprints = [10, 8, 20, 11, 15]\n",
    "goal = 50\n",
    "num_sim_runs = 60"
   ]
  },
  {
   "cell_type": "code",
   "execution_count": 4,
   "metadata": {},
   "outputs": [],
   "source": [
    "#Simulate how many sprints are required to hit the target number of story points.\n",
    "def burn_up(target):\n",
    "    burnup = []\n",
    "    total = 0\n",
    "    while total < target:\n",
    "        sprint = np.random.choice(past_sprints)\n",
    "        total += sprint\n",
    "        burnup.append(sprint)\n",
    "    return burnup\n",
    "        \n"
   ]
  },
  {
   "cell_type": "code",
   "execution_count": 5,
   "metadata": {},
   "outputs": [],
   "source": [
    "\n",
    "def simulate(num_sim_runs, story_point_goal):\n",
    "    return [burn_up(story_point_goal) for _ in range(num_sim_runs)]\n",
    "\n",
    "\n",
    "    "
   ]
  },
  {
   "cell_type": "code",
   "execution_count": 6,
   "metadata": {},
   "outputs": [],
   "source": [
    "\n",
    "def cum_prob(histogram, total):\n",
    "    return np.cumsum(histogram / total)"
   ]
  },
  {
   "cell_type": "code",
   "execution_count": 7,
   "metadata": {},
   "outputs": [],
   "source": [
    "def inverse_cdf(cdf, percent):\n",
    "    pos = 0\n",
    "    for (i, value) in enumerate(cdf):\n",
    "        if value >= percent:\n",
    "            pos = i\n",
    "            break\n",
    "    return pos - (cdf[pos] - percent) / (cdf[pos] - cdf[pos-1])\n"
   ]
  },
  {
   "cell_type": "code",
   "execution_count": 8,
   "metadata": {},
   "outputs": [],
   "source": [
    "data = simulate(num_sim_runs, goal)"
   ]
  },
  {
   "cell_type": "code",
   "execution_count": 9,
   "metadata": {},
   "outputs": [],
   "source": [
    "counts = list(map(len, data))"
   ]
  },
  {
   "cell_type": "code",
   "execution_count": 10,
   "metadata": {},
   "outputs": [
    {
     "data": {
      "text/plain": [
       "array([ 0,  0,  0, 10, 28, 20,  2])"
      ]
     },
     "execution_count": 10,
     "metadata": {},
     "output_type": "execute_result"
    }
   ],
   "source": [
    "(hist, _) = np.histogram(counts, bins=range(max(counts)+2))\n",
    "hist"
   ]
  },
  {
   "cell_type": "code",
   "execution_count": 11,
   "metadata": {},
   "outputs": [],
   "source": [
    "probs = cum_prob(hist, num_sim_runs)"
   ]
  },
  {
   "cell_type": "code",
   "execution_count": 12,
   "metadata": {},
   "outputs": [
    {
     "data": {
      "text/plain": [
       "3.7142857142857144"
      ]
     },
     "execution_count": 12,
     "metadata": {},
     "output_type": "execute_result"
    }
   ],
   "source": [
    "fiftieth = inverse_cdf(probs, .5)\n",
    "fiftieth"
   ]
  },
  {
   "cell_type": "code",
   "execution_count": 13,
   "metadata": {},
   "outputs": [
    {
     "data": {
      "text/plain": [
       "4.65"
      ]
     },
     "execution_count": 13,
     "metadata": {},
     "output_type": "execute_result"
    }
   ],
   "source": [
    "eightyfifth = inverse_cdf(probs, .85)\n",
    "eightyfifth"
   ]
  },
  {
   "cell_type": "code",
   "execution_count": 14,
   "metadata": {},
   "outputs": [
    {
     "data": {
      "text/html": [
       "<div>\n",
       "<style scoped>\n",
       "    .dataframe tbody tr th:only-of-type {\n",
       "        vertical-align: middle;\n",
       "    }\n",
       "\n",
       "    .dataframe tbody tr th {\n",
       "        vertical-align: top;\n",
       "    }\n",
       "\n",
       "    .dataframe thead th {\n",
       "        text-align: right;\n",
       "    }\n",
       "</style>\n",
       "<table border=\"1\" class=\"dataframe\">\n",
       "  <thead>\n",
       "    <tr style=\"text-align: right;\">\n",
       "      <th></th>\n",
       "      <th>Sprint</th>\n",
       "      <th>Runs</th>\n",
       "      <th>Burnups</th>\n",
       "    </tr>\n",
       "  </thead>\n",
       "  <tbody>\n",
       "    <tr>\n",
       "      <th>0</th>\n",
       "      <td>1</td>\n",
       "      <td>run0</td>\n",
       "      <td>11</td>\n",
       "    </tr>\n",
       "    <tr>\n",
       "      <th>1</th>\n",
       "      <td>2</td>\n",
       "      <td>run0</td>\n",
       "      <td>22</td>\n",
       "    </tr>\n",
       "    <tr>\n",
       "      <th>2</th>\n",
       "      <td>3</td>\n",
       "      <td>run0</td>\n",
       "      <td>32</td>\n",
       "    </tr>\n",
       "    <tr>\n",
       "      <th>3</th>\n",
       "      <td>4</td>\n",
       "      <td>run0</td>\n",
       "      <td>47</td>\n",
       "    </tr>\n",
       "    <tr>\n",
       "      <th>4</th>\n",
       "      <td>5</td>\n",
       "      <td>run0</td>\n",
       "      <td>57</td>\n",
       "    </tr>\n",
       "    <tr>\n",
       "      <th>...</th>\n",
       "      <td>...</td>\n",
       "      <td>...</td>\n",
       "      <td>...</td>\n",
       "    </tr>\n",
       "    <tr>\n",
       "      <th>249</th>\n",
       "      <td>5</td>\n",
       "      <td>run58</td>\n",
       "      <td>58</td>\n",
       "    </tr>\n",
       "    <tr>\n",
       "      <th>250</th>\n",
       "      <td>1</td>\n",
       "      <td>run59</td>\n",
       "      <td>8</td>\n",
       "    </tr>\n",
       "    <tr>\n",
       "      <th>251</th>\n",
       "      <td>2</td>\n",
       "      <td>run59</td>\n",
       "      <td>23</td>\n",
       "    </tr>\n",
       "    <tr>\n",
       "      <th>252</th>\n",
       "      <td>3</td>\n",
       "      <td>run59</td>\n",
       "      <td>31</td>\n",
       "    </tr>\n",
       "    <tr>\n",
       "      <th>253</th>\n",
       "      <td>4</td>\n",
       "      <td>run59</td>\n",
       "      <td>51</td>\n",
       "    </tr>\n",
       "  </tbody>\n",
       "</table>\n",
       "<p>254 rows × 3 columns</p>\n",
       "</div>"
      ],
      "text/plain": [
       "     Sprint   Runs  Burnups\n",
       "0         1   run0       11\n",
       "1         2   run0       22\n",
       "2         3   run0       32\n",
       "3         4   run0       47\n",
       "4         5   run0       57\n",
       "..      ...    ...      ...\n",
       "249       5  run58       58\n",
       "250       1  run59        8\n",
       "251       2  run59       23\n",
       "252       3  run59       31\n",
       "253       4  run59       51\n",
       "\n",
       "[254 rows x 3 columns]"
      ]
     },
     "execution_count": 14,
     "metadata": {},
     "output_type": "execute_result"
    }
   ],
   "source": [
    "sprint = []\n",
    "runs = []\n",
    "burnups = []\n",
    "\n",
    "for (i, run) in enumerate(data):\n",
    "    for (j, k) in enumerate(np.cumsum(run)):\n",
    "        runs.append(f\"run{i}\")\n",
    "        sprint.append(j+1)\n",
    "        burnups.append(k)\n",
    "        \n",
    "df = pd.DataFrame({\n",
    "    'Sprint': sprint,\n",
    "    'Runs': runs,\n",
    "    'Burnups': burnups\n",
    "})\n",
    "df\n",
    "    "
   ]
  },
  {
   "cell_type": "code",
   "execution_count": 15,
   "metadata": {},
   "outputs": [
    {
     "data": {
      "text/html": [
       "\n",
       "<div id=\"altair-viz-763130d6892d4669b35fe42315346500\"></div>\n",
       "<script type=\"text/javascript\">\n",
       "  (function(spec, embedOpt){\n",
       "    let outputDiv = document.currentScript.previousElementSibling;\n",
       "    if (outputDiv.id !== \"altair-viz-763130d6892d4669b35fe42315346500\") {\n",
       "      outputDiv = document.getElementById(\"altair-viz-763130d6892d4669b35fe42315346500\");\n",
       "    }\n",
       "    const paths = {\n",
       "      \"vega\": \"https://cdn.jsdelivr.net/npm//vega@5?noext\",\n",
       "      \"vega-lib\": \"https://cdn.jsdelivr.net/npm//vega-lib?noext\",\n",
       "      \"vega-lite\": \"https://cdn.jsdelivr.net/npm//vega-lite@4.8.1?noext\",\n",
       "      \"vega-embed\": \"https://cdn.jsdelivr.net/npm//vega-embed@6?noext\",\n",
       "    };\n",
       "\n",
       "    function loadScript(lib) {\n",
       "      return new Promise(function(resolve, reject) {\n",
       "        var s = document.createElement('script');\n",
       "        s.src = paths[lib];\n",
       "        s.async = true;\n",
       "        s.onload = () => resolve(paths[lib]);\n",
       "        s.onerror = () => reject(`Error loading script: ${paths[lib]}`);\n",
       "        document.getElementsByTagName(\"head\")[0].appendChild(s);\n",
       "      });\n",
       "    }\n",
       "\n",
       "    function showError(err) {\n",
       "      outputDiv.innerHTML = `<div class=\"error\" style=\"color:red;\">${err}</div>`;\n",
       "      throw err;\n",
       "    }\n",
       "\n",
       "    function displayChart(vegaEmbed) {\n",
       "      vegaEmbed(outputDiv, spec, embedOpt)\n",
       "        .catch(err => showError(`Javascript Error: ${err.message}<br>This usually means there's a typo in your chart specification. See the javascript console for the full traceback.`));\n",
       "    }\n",
       "\n",
       "    if(typeof define === \"function\" && define.amd) {\n",
       "      requirejs.config({paths});\n",
       "      require([\"vega-embed\"], displayChart, err => showError(`Error loading script: ${err.message}`));\n",
       "    } else if (typeof vegaEmbed === \"function\") {\n",
       "      displayChart(vegaEmbed);\n",
       "    } else {\n",
       "      loadScript(\"vega\")\n",
       "        .then(() => loadScript(\"vega-lite\"))\n",
       "        .then(() => loadScript(\"vega-embed\"))\n",
       "        .catch(showError)\n",
       "        .then(() => displayChart(vegaEmbed));\n",
       "    }\n",
       "  })({\"config\": {\"view\": {\"continuousWidth\": 400, \"continuousHeight\": 300}}, \"layer\": [{\"data\": {\"name\": \"data-294d90d9f13d225b5d8b5addea0691dc\"}, \"mark\": \"line\", \"encoding\": {\"color\": {\"type\": \"nominal\", \"field\": \"Runs\", \"legend\": null}, \"x\": {\"type\": \"ordinal\", \"axis\": {\"labelAngle\": 0}, \"field\": \"Sprint\"}, \"y\": {\"type\": \"quantitative\", \"field\": \"Burnups\"}}, \"height\": 500, \"width\": 800}, {\"data\": {\"name\": \"data-5ee9db9a94b5bcccc54a7b3535a37c5a\"}, \"mark\": \"rule\", \"encoding\": {\"y\": {\"type\": \"quantitative\", \"field\": \"Sprint Goal\"}}}], \"$schema\": \"https://vega.github.io/schema/vega-lite/v4.8.1.json\", \"datasets\": {\"data-294d90d9f13d225b5d8b5addea0691dc\": [{\"Sprint\": 1, \"Runs\": \"run0\", \"Burnups\": 11}, {\"Sprint\": 2, \"Runs\": \"run0\", \"Burnups\": 22}, {\"Sprint\": 3, \"Runs\": \"run0\", \"Burnups\": 32}, {\"Sprint\": 4, \"Runs\": \"run0\", \"Burnups\": 47}, {\"Sprint\": 5, \"Runs\": \"run0\", \"Burnups\": 57}, {\"Sprint\": 1, \"Runs\": \"run1\", \"Burnups\": 8}, {\"Sprint\": 2, \"Runs\": \"run1\", \"Burnups\": 16}, {\"Sprint\": 3, \"Runs\": \"run1\", \"Burnups\": 36}, {\"Sprint\": 4, \"Runs\": \"run1\", \"Burnups\": 51}, {\"Sprint\": 1, \"Runs\": \"run2\", \"Burnups\": 8}, {\"Sprint\": 2, \"Runs\": \"run2\", \"Burnups\": 28}, {\"Sprint\": 3, \"Runs\": \"run2\", \"Burnups\": 43}, {\"Sprint\": 4, \"Runs\": \"run2\", \"Burnups\": 58}, {\"Sprint\": 1, \"Runs\": \"run3\", \"Burnups\": 8}, {\"Sprint\": 2, \"Runs\": \"run3\", \"Burnups\": 16}, {\"Sprint\": 3, \"Runs\": \"run3\", \"Burnups\": 27}, {\"Sprint\": 4, \"Runs\": \"run3\", \"Burnups\": 42}, {\"Sprint\": 5, \"Runs\": \"run3\", \"Burnups\": 62}, {\"Sprint\": 1, \"Runs\": \"run4\", \"Burnups\": 11}, {\"Sprint\": 2, \"Runs\": \"run4\", \"Burnups\": 26}, {\"Sprint\": 3, \"Runs\": \"run4\", \"Burnups\": 41}, {\"Sprint\": 4, \"Runs\": \"run4\", \"Burnups\": 49}, {\"Sprint\": 5, \"Runs\": \"run4\", \"Burnups\": 59}, {\"Sprint\": 1, \"Runs\": \"run5\", \"Burnups\": 15}, {\"Sprint\": 2, \"Runs\": \"run5\", \"Burnups\": 23}, {\"Sprint\": 3, \"Runs\": \"run5\", \"Burnups\": 34}, {\"Sprint\": 4, \"Runs\": \"run5\", \"Burnups\": 45}, {\"Sprint\": 5, \"Runs\": \"run5\", \"Burnups\": 56}, {\"Sprint\": 1, \"Runs\": \"run6\", \"Burnups\": 10}, {\"Sprint\": 2, \"Runs\": \"run6\", \"Burnups\": 30}, {\"Sprint\": 3, \"Runs\": \"run6\", \"Burnups\": 38}, {\"Sprint\": 4, \"Runs\": \"run6\", \"Burnups\": 58}, {\"Sprint\": 1, \"Runs\": \"run7\", \"Burnups\": 15}, {\"Sprint\": 2, \"Runs\": \"run7\", \"Burnups\": 30}, {\"Sprint\": 3, \"Runs\": \"run7\", \"Burnups\": 40}, {\"Sprint\": 4, \"Runs\": \"run7\", \"Burnups\": 60}, {\"Sprint\": 1, \"Runs\": \"run8\", \"Burnups\": 10}, {\"Sprint\": 2, \"Runs\": \"run8\", \"Burnups\": 30}, {\"Sprint\": 3, \"Runs\": \"run8\", \"Burnups\": 50}, {\"Sprint\": 1, \"Runs\": \"run9\", \"Burnups\": 11}, {\"Sprint\": 2, \"Runs\": \"run9\", \"Burnups\": 19}, {\"Sprint\": 3, \"Runs\": \"run9\", \"Burnups\": 27}, {\"Sprint\": 4, \"Runs\": \"run9\", \"Burnups\": 47}, {\"Sprint\": 5, \"Runs\": \"run9\", \"Burnups\": 58}, {\"Sprint\": 1, \"Runs\": \"run10\", \"Burnups\": 8}, {\"Sprint\": 2, \"Runs\": \"run10\", \"Burnups\": 23}, {\"Sprint\": 3, \"Runs\": \"run10\", \"Burnups\": 34}, {\"Sprint\": 4, \"Runs\": \"run10\", \"Burnups\": 45}, {\"Sprint\": 5, \"Runs\": \"run10\", \"Burnups\": 53}, {\"Sprint\": 1, \"Runs\": \"run11\", \"Burnups\": 11}, {\"Sprint\": 2, \"Runs\": \"run11\", \"Burnups\": 26}, {\"Sprint\": 3, \"Runs\": \"run11\", \"Burnups\": 41}, {\"Sprint\": 4, \"Runs\": \"run11\", \"Burnups\": 61}, {\"Sprint\": 1, \"Runs\": \"run12\", \"Burnups\": 20}, {\"Sprint\": 2, \"Runs\": \"run12\", \"Burnups\": 40}, {\"Sprint\": 3, \"Runs\": \"run12\", \"Burnups\": 51}, {\"Sprint\": 1, \"Runs\": \"run13\", \"Burnups\": 11}, {\"Sprint\": 2, \"Runs\": \"run13\", \"Burnups\": 22}, {\"Sprint\": 3, \"Runs\": \"run13\", \"Burnups\": 32}, {\"Sprint\": 4, \"Runs\": \"run13\", \"Burnups\": 52}, {\"Sprint\": 1, \"Runs\": \"run14\", \"Burnups\": 11}, {\"Sprint\": 2, \"Runs\": \"run14\", \"Burnups\": 31}, {\"Sprint\": 3, \"Runs\": \"run14\", \"Burnups\": 51}, {\"Sprint\": 1, \"Runs\": \"run15\", \"Burnups\": 8}, {\"Sprint\": 2, \"Runs\": \"run15\", \"Burnups\": 23}, {\"Sprint\": 3, \"Runs\": \"run15\", \"Burnups\": 33}, {\"Sprint\": 4, \"Runs\": \"run15\", \"Burnups\": 48}, {\"Sprint\": 5, \"Runs\": \"run15\", \"Burnups\": 63}, {\"Sprint\": 1, \"Runs\": \"run16\", \"Burnups\": 20}, {\"Sprint\": 2, \"Runs\": \"run16\", \"Burnups\": 31}, {\"Sprint\": 3, \"Runs\": \"run16\", \"Burnups\": 41}, {\"Sprint\": 4, \"Runs\": \"run16\", \"Burnups\": 56}, {\"Sprint\": 1, \"Runs\": \"run17\", \"Burnups\": 8}, {\"Sprint\": 2, \"Runs\": \"run17\", \"Burnups\": 19}, {\"Sprint\": 3, \"Runs\": \"run17\", \"Burnups\": 39}, {\"Sprint\": 4, \"Runs\": \"run17\", \"Burnups\": 47}, {\"Sprint\": 5, \"Runs\": \"run17\", \"Burnups\": 67}, {\"Sprint\": 1, \"Runs\": \"run18\", \"Burnups\": 15}, {\"Sprint\": 2, \"Runs\": \"run18\", \"Burnups\": 35}, {\"Sprint\": 3, \"Runs\": \"run18\", \"Burnups\": 50}, {\"Sprint\": 1, \"Runs\": \"run19\", \"Burnups\": 11}, {\"Sprint\": 2, \"Runs\": \"run19\", \"Burnups\": 19}, {\"Sprint\": 3, \"Runs\": \"run19\", \"Burnups\": 34}, {\"Sprint\": 4, \"Runs\": \"run19\", \"Burnups\": 49}, {\"Sprint\": 5, \"Runs\": \"run19\", \"Burnups\": 60}, {\"Sprint\": 1, \"Runs\": \"run20\", \"Burnups\": 10}, {\"Sprint\": 2, \"Runs\": \"run20\", \"Burnups\": 30}, {\"Sprint\": 3, \"Runs\": \"run20\", \"Burnups\": 50}, {\"Sprint\": 1, \"Runs\": \"run21\", \"Burnups\": 8}, {\"Sprint\": 2, \"Runs\": \"run21\", \"Burnups\": 16}, {\"Sprint\": 3, \"Runs\": \"run21\", \"Burnups\": 27}, {\"Sprint\": 4, \"Runs\": \"run21\", \"Burnups\": 35}, {\"Sprint\": 5, \"Runs\": \"run21\", \"Burnups\": 43}, {\"Sprint\": 6, \"Runs\": \"run21\", \"Burnups\": 51}, {\"Sprint\": 1, \"Runs\": \"run22\", \"Burnups\": 20}, {\"Sprint\": 2, \"Runs\": \"run22\", \"Burnups\": 31}, {\"Sprint\": 3, \"Runs\": \"run22\", \"Burnups\": 51}, {\"Sprint\": 1, \"Runs\": \"run23\", \"Burnups\": 10}, {\"Sprint\": 2, \"Runs\": \"run23\", \"Burnups\": 21}, {\"Sprint\": 3, \"Runs\": \"run23\", \"Burnups\": 31}, {\"Sprint\": 4, \"Runs\": \"run23\", \"Burnups\": 46}, {\"Sprint\": 5, \"Runs\": \"run23\", \"Burnups\": 57}, {\"Sprint\": 1, \"Runs\": \"run24\", \"Burnups\": 15}, {\"Sprint\": 2, \"Runs\": \"run24\", \"Burnups\": 26}, {\"Sprint\": 3, \"Runs\": \"run24\", \"Burnups\": 34}, {\"Sprint\": 4, \"Runs\": \"run24\", \"Burnups\": 49}, {\"Sprint\": 5, \"Runs\": \"run24\", \"Burnups\": 64}, {\"Sprint\": 1, \"Runs\": \"run25\", \"Burnups\": 20}, {\"Sprint\": 2, \"Runs\": \"run25\", \"Burnups\": 35}, {\"Sprint\": 3, \"Runs\": \"run25\", \"Burnups\": 43}, {\"Sprint\": 4, \"Runs\": \"run25\", \"Burnups\": 58}, {\"Sprint\": 1, \"Runs\": \"run26\", \"Burnups\": 8}, {\"Sprint\": 2, \"Runs\": \"run26\", \"Burnups\": 28}, {\"Sprint\": 3, \"Runs\": \"run26\", \"Burnups\": 38}, {\"Sprint\": 4, \"Runs\": \"run26\", \"Burnups\": 48}, {\"Sprint\": 5, \"Runs\": \"run26\", \"Burnups\": 63}, {\"Sprint\": 1, \"Runs\": \"run27\", \"Burnups\": 20}, {\"Sprint\": 2, \"Runs\": \"run27\", \"Burnups\": 30}, {\"Sprint\": 3, \"Runs\": \"run27\", \"Burnups\": 40}, {\"Sprint\": 4, \"Runs\": \"run27\", \"Burnups\": 55}, {\"Sprint\": 1, \"Runs\": \"run28\", \"Burnups\": 11}, {\"Sprint\": 2, \"Runs\": \"run28\", \"Burnups\": 21}, {\"Sprint\": 3, \"Runs\": \"run28\", \"Burnups\": 29}, {\"Sprint\": 4, \"Runs\": \"run28\", \"Burnups\": 49}, {\"Sprint\": 5, \"Runs\": \"run28\", \"Burnups\": 64}, {\"Sprint\": 1, \"Runs\": \"run29\", \"Burnups\": 20}, {\"Sprint\": 2, \"Runs\": \"run29\", \"Burnups\": 30}, {\"Sprint\": 3, \"Runs\": \"run29\", \"Burnups\": 41}, {\"Sprint\": 4, \"Runs\": \"run29\", \"Burnups\": 51}, {\"Sprint\": 1, \"Runs\": \"run30\", \"Burnups\": 10}, {\"Sprint\": 2, \"Runs\": \"run30\", \"Burnups\": 20}, {\"Sprint\": 3, \"Runs\": \"run30\", \"Burnups\": 31}, {\"Sprint\": 4, \"Runs\": \"run30\", \"Burnups\": 51}, {\"Sprint\": 1, \"Runs\": \"run31\", \"Burnups\": 20}, {\"Sprint\": 2, \"Runs\": \"run31\", \"Burnups\": 40}, {\"Sprint\": 3, \"Runs\": \"run31\", \"Burnups\": 51}, {\"Sprint\": 1, \"Runs\": \"run32\", \"Burnups\": 8}, {\"Sprint\": 2, \"Runs\": \"run32\", \"Burnups\": 19}, {\"Sprint\": 3, \"Runs\": \"run32\", \"Burnups\": 39}, {\"Sprint\": 4, \"Runs\": \"run32\", \"Burnups\": 54}, {\"Sprint\": 1, \"Runs\": \"run33\", \"Burnups\": 20}, {\"Sprint\": 2, \"Runs\": \"run33\", \"Burnups\": 28}, {\"Sprint\": 3, \"Runs\": \"run33\", \"Burnups\": 43}, {\"Sprint\": 4, \"Runs\": \"run33\", \"Burnups\": 54}, {\"Sprint\": 1, \"Runs\": \"run34\", \"Burnups\": 20}, {\"Sprint\": 2, \"Runs\": \"run34\", \"Burnups\": 28}, {\"Sprint\": 3, \"Runs\": \"run34\", \"Burnups\": 36}, {\"Sprint\": 4, \"Runs\": \"run34\", \"Burnups\": 56}, {\"Sprint\": 1, \"Runs\": \"run35\", \"Burnups\": 20}, {\"Sprint\": 2, \"Runs\": \"run35\", \"Burnups\": 35}, {\"Sprint\": 3, \"Runs\": \"run35\", \"Burnups\": 46}, {\"Sprint\": 4, \"Runs\": \"run35\", \"Burnups\": 56}, {\"Sprint\": 1, \"Runs\": \"run36\", \"Burnups\": 20}, {\"Sprint\": 2, \"Runs\": \"run36\", \"Burnups\": 30}, {\"Sprint\": 3, \"Runs\": \"run36\", \"Burnups\": 45}, {\"Sprint\": 4, \"Runs\": \"run36\", \"Burnups\": 56}, {\"Sprint\": 1, \"Runs\": \"run37\", \"Burnups\": 8}, {\"Sprint\": 2, \"Runs\": \"run37\", \"Burnups\": 28}, {\"Sprint\": 3, \"Runs\": \"run37\", \"Burnups\": 43}, {\"Sprint\": 4, \"Runs\": \"run37\", \"Burnups\": 53}, {\"Sprint\": 1, \"Runs\": \"run38\", \"Burnups\": 10}, {\"Sprint\": 2, \"Runs\": \"run38\", \"Burnups\": 30}, {\"Sprint\": 3, \"Runs\": \"run38\", \"Burnups\": 41}, {\"Sprint\": 4, \"Runs\": \"run38\", \"Burnups\": 61}, {\"Sprint\": 1, \"Runs\": \"run39\", \"Burnups\": 15}, {\"Sprint\": 2, \"Runs\": \"run39\", \"Burnups\": 23}, {\"Sprint\": 3, \"Runs\": \"run39\", \"Burnups\": 31}, {\"Sprint\": 4, \"Runs\": \"run39\", \"Burnups\": 42}, {\"Sprint\": 5, \"Runs\": \"run39\", \"Burnups\": 50}, {\"Sprint\": 1, \"Runs\": \"run40\", \"Burnups\": 11}, {\"Sprint\": 2, \"Runs\": \"run40\", \"Burnups\": 22}, {\"Sprint\": 3, \"Runs\": \"run40\", \"Burnups\": 32}, {\"Sprint\": 4, \"Runs\": \"run40\", \"Burnups\": 52}, {\"Sprint\": 1, \"Runs\": \"run41\", \"Burnups\": 11}, {\"Sprint\": 2, \"Runs\": \"run41\", \"Burnups\": 26}, {\"Sprint\": 3, \"Runs\": \"run41\", \"Burnups\": 37}, {\"Sprint\": 4, \"Runs\": \"run41\", \"Burnups\": 45}, {\"Sprint\": 5, \"Runs\": \"run41\", \"Burnups\": 53}, {\"Sprint\": 1, \"Runs\": \"run42\", \"Burnups\": 15}, {\"Sprint\": 2, \"Runs\": \"run42\", \"Burnups\": 26}, {\"Sprint\": 3, \"Runs\": \"run42\", \"Burnups\": 34}, {\"Sprint\": 4, \"Runs\": \"run42\", \"Burnups\": 54}, {\"Sprint\": 1, \"Runs\": \"run43\", \"Burnups\": 11}, {\"Sprint\": 2, \"Runs\": \"run43\", \"Burnups\": 19}, {\"Sprint\": 3, \"Runs\": \"run43\", \"Burnups\": 34}, {\"Sprint\": 4, \"Runs\": \"run43\", \"Burnups\": 54}, {\"Sprint\": 1, \"Runs\": \"run44\", \"Burnups\": 15}, {\"Sprint\": 2, \"Runs\": \"run44\", \"Burnups\": 26}, {\"Sprint\": 3, \"Runs\": \"run44\", \"Burnups\": 37}, {\"Sprint\": 4, \"Runs\": \"run44\", \"Burnups\": 47}, {\"Sprint\": 5, \"Runs\": \"run44\", \"Burnups\": 67}, {\"Sprint\": 1, \"Runs\": \"run45\", \"Burnups\": 20}, {\"Sprint\": 2, \"Runs\": \"run45\", \"Burnups\": 31}, {\"Sprint\": 3, \"Runs\": \"run45\", \"Burnups\": 51}, {\"Sprint\": 1, \"Runs\": \"run46\", \"Burnups\": 20}, {\"Sprint\": 2, \"Runs\": \"run46\", \"Burnups\": 30}, {\"Sprint\": 3, \"Runs\": \"run46\", \"Burnups\": 50}, {\"Sprint\": 1, \"Runs\": \"run47\", \"Burnups\": 8}, {\"Sprint\": 2, \"Runs\": \"run47\", \"Burnups\": 18}, {\"Sprint\": 3, \"Runs\": \"run47\", \"Burnups\": 28}, {\"Sprint\": 4, \"Runs\": \"run47\", \"Burnups\": 36}, {\"Sprint\": 5, \"Runs\": \"run47\", \"Burnups\": 47}, {\"Sprint\": 6, \"Runs\": \"run47\", \"Burnups\": 62}, {\"Sprint\": 1, \"Runs\": \"run48\", \"Burnups\": 20}, {\"Sprint\": 2, \"Runs\": \"run48\", \"Burnups\": 40}, {\"Sprint\": 3, \"Runs\": \"run48\", \"Burnups\": 51}, {\"Sprint\": 1, \"Runs\": \"run49\", \"Burnups\": 20}, {\"Sprint\": 2, \"Runs\": \"run49\", \"Burnups\": 30}, {\"Sprint\": 3, \"Runs\": \"run49\", \"Burnups\": 38}, {\"Sprint\": 4, \"Runs\": \"run49\", \"Burnups\": 46}, {\"Sprint\": 5, \"Runs\": \"run49\", \"Burnups\": 61}, {\"Sprint\": 1, \"Runs\": \"run50\", \"Burnups\": 15}, {\"Sprint\": 2, \"Runs\": \"run50\", \"Burnups\": 26}, {\"Sprint\": 3, \"Runs\": \"run50\", \"Burnups\": 37}, {\"Sprint\": 4, \"Runs\": \"run50\", \"Burnups\": 57}, {\"Sprint\": 1, \"Runs\": \"run51\", \"Burnups\": 11}, {\"Sprint\": 2, \"Runs\": \"run51\", \"Burnups\": 31}, {\"Sprint\": 3, \"Runs\": \"run51\", \"Burnups\": 41}, {\"Sprint\": 4, \"Runs\": \"run51\", \"Burnups\": 52}, {\"Sprint\": 1, \"Runs\": \"run52\", \"Burnups\": 20}, {\"Sprint\": 2, \"Runs\": \"run52\", \"Burnups\": 28}, {\"Sprint\": 3, \"Runs\": \"run52\", \"Burnups\": 48}, {\"Sprint\": 4, \"Runs\": \"run52\", \"Burnups\": 59}, {\"Sprint\": 1, \"Runs\": \"run53\", \"Burnups\": 15}, {\"Sprint\": 2, \"Runs\": \"run53\", \"Burnups\": 30}, {\"Sprint\": 3, \"Runs\": \"run53\", \"Burnups\": 41}, {\"Sprint\": 4, \"Runs\": \"run53\", \"Burnups\": 49}, {\"Sprint\": 5, \"Runs\": \"run53\", \"Burnups\": 57}, {\"Sprint\": 1, \"Runs\": \"run54\", \"Burnups\": 11}, {\"Sprint\": 2, \"Runs\": \"run54\", \"Burnups\": 26}, {\"Sprint\": 3, \"Runs\": \"run54\", \"Burnups\": 46}, {\"Sprint\": 4, \"Runs\": \"run54\", \"Burnups\": 61}, {\"Sprint\": 1, \"Runs\": \"run55\", \"Burnups\": 11}, {\"Sprint\": 2, \"Runs\": \"run55\", \"Burnups\": 22}, {\"Sprint\": 3, \"Runs\": \"run55\", \"Burnups\": 42}, {\"Sprint\": 4, \"Runs\": \"run55\", \"Burnups\": 62}, {\"Sprint\": 1, \"Runs\": \"run56\", \"Burnups\": 15}, {\"Sprint\": 2, \"Runs\": \"run56\", \"Burnups\": 25}, {\"Sprint\": 3, \"Runs\": \"run56\", \"Burnups\": 40}, {\"Sprint\": 4, \"Runs\": \"run56\", \"Burnups\": 55}, {\"Sprint\": 1, \"Runs\": \"run57\", \"Burnups\": 10}, {\"Sprint\": 2, \"Runs\": \"run57\", \"Burnups\": 20}, {\"Sprint\": 3, \"Runs\": \"run57\", \"Burnups\": 31}, {\"Sprint\": 4, \"Runs\": \"run57\", \"Burnups\": 46}, {\"Sprint\": 5, \"Runs\": \"run57\", \"Burnups\": 66}, {\"Sprint\": 1, \"Runs\": \"run58\", \"Burnups\": 11}, {\"Sprint\": 2, \"Runs\": \"run58\", \"Burnups\": 26}, {\"Sprint\": 3, \"Runs\": \"run58\", \"Burnups\": 37}, {\"Sprint\": 4, \"Runs\": \"run58\", \"Burnups\": 48}, {\"Sprint\": 5, \"Runs\": \"run58\", \"Burnups\": 58}, {\"Sprint\": 1, \"Runs\": \"run59\", \"Burnups\": 8}, {\"Sprint\": 2, \"Runs\": \"run59\", \"Burnups\": 23}, {\"Sprint\": 3, \"Runs\": \"run59\", \"Burnups\": 31}, {\"Sprint\": 4, \"Runs\": \"run59\", \"Burnups\": 51}], \"data-5ee9db9a94b5bcccc54a7b3535a37c5a\": [{\"Sprint Goal\": 50}]}}, {\"mode\": \"vega-lite\"});\n",
       "</script>"
      ],
      "text/plain": [
       "alt.LayerChart(...)"
      ]
     },
     "execution_count": 15,
     "metadata": {},
     "output_type": "execute_result"
    }
   ],
   "source": [
    "\n",
    "lines = alt.Chart(df).properties(width=800, height=500).mark_line().encode(\n",
    "    x=alt.X('Sprint:O', axis=alt.Axis(labelAngle=0)),\n",
    "    y='Burnups:Q',\n",
    "    color= alt.Color('Runs', legend=None)\n",
    ")\n",
    "\n",
    "goal_line = alt.Chart(pd.DataFrame({'Sprint Goal': [50]})).mark_rule().encode(y='Sprint Goal')\n",
    "\n",
    "fiftieth_line = alt.Chart(pd.DataFrame({'50th': [fiftieth]})).mark_rule().encode(x='50th')\n",
    "\n",
    "lines + goal_line\n"
   ]
  },
  {
   "cell_type": "code",
   "execution_count": 19,
   "metadata": {},
   "outputs": [
    {
     "data": {
      "application/vnd.plotly.v1+json": {
       "config": {
        "plotlyServerURL": "https://plot.ly"
       },
       "data": [
        {
         "hovertemplate": "Runs=run0<br>Sprint=%{x}<br>Burnups=%{y}<extra></extra>",
         "legendgroup": "run0",
         "line": {
          "color": "#636efa",
          "dash": "solid"
         },
         "mode": "lines",
         "name": "run0",
         "orientation": "v",
         "showlegend": true,
         "type": "scatter",
         "x": [
          1,
          2,
          3,
          4,
          5
         ],
         "xaxis": "x",
         "y": [
          11,
          22,
          32,
          47,
          57
         ],
         "yaxis": "y"
        },
        {
         "hovertemplate": "Runs=run1<br>Sprint=%{x}<br>Burnups=%{y}<extra></extra>",
         "legendgroup": "run1",
         "line": {
          "color": "#EF553B",
          "dash": "solid"
         },
         "mode": "lines",
         "name": "run1",
         "orientation": "v",
         "showlegend": true,
         "type": "scatter",
         "x": [
          1,
          2,
          3,
          4
         ],
         "xaxis": "x",
         "y": [
          8,
          16,
          36,
          51
         ],
         "yaxis": "y"
        },
        {
         "hovertemplate": "Runs=run2<br>Sprint=%{x}<br>Burnups=%{y}<extra></extra>",
         "legendgroup": "run2",
         "line": {
          "color": "#00cc96",
          "dash": "solid"
         },
         "mode": "lines",
         "name": "run2",
         "orientation": "v",
         "showlegend": true,
         "type": "scatter",
         "x": [
          1,
          2,
          3,
          4
         ],
         "xaxis": "x",
         "y": [
          8,
          28,
          43,
          58
         ],
         "yaxis": "y"
        },
        {
         "hovertemplate": "Runs=run3<br>Sprint=%{x}<br>Burnups=%{y}<extra></extra>",
         "legendgroup": "run3",
         "line": {
          "color": "#ab63fa",
          "dash": "solid"
         },
         "mode": "lines",
         "name": "run3",
         "orientation": "v",
         "showlegend": true,
         "type": "scatter",
         "x": [
          1,
          2,
          3,
          4,
          5
         ],
         "xaxis": "x",
         "y": [
          8,
          16,
          27,
          42,
          62
         ],
         "yaxis": "y"
        },
        {
         "hovertemplate": "Runs=run4<br>Sprint=%{x}<br>Burnups=%{y}<extra></extra>",
         "legendgroup": "run4",
         "line": {
          "color": "#FFA15A",
          "dash": "solid"
         },
         "mode": "lines",
         "name": "run4",
         "orientation": "v",
         "showlegend": true,
         "type": "scatter",
         "x": [
          1,
          2,
          3,
          4,
          5
         ],
         "xaxis": "x",
         "y": [
          11,
          26,
          41,
          49,
          59
         ],
         "yaxis": "y"
        },
        {
         "hovertemplate": "Runs=run5<br>Sprint=%{x}<br>Burnups=%{y}<extra></extra>",
         "legendgroup": "run5",
         "line": {
          "color": "#19d3f3",
          "dash": "solid"
         },
         "mode": "lines",
         "name": "run5",
         "orientation": "v",
         "showlegend": true,
         "type": "scatter",
         "x": [
          1,
          2,
          3,
          4,
          5
         ],
         "xaxis": "x",
         "y": [
          15,
          23,
          34,
          45,
          56
         ],
         "yaxis": "y"
        },
        {
         "hovertemplate": "Runs=run6<br>Sprint=%{x}<br>Burnups=%{y}<extra></extra>",
         "legendgroup": "run6",
         "line": {
          "color": "#FF6692",
          "dash": "solid"
         },
         "mode": "lines",
         "name": "run6",
         "orientation": "v",
         "showlegend": true,
         "type": "scatter",
         "x": [
          1,
          2,
          3,
          4
         ],
         "xaxis": "x",
         "y": [
          10,
          30,
          38,
          58
         ],
         "yaxis": "y"
        },
        {
         "hovertemplate": "Runs=run7<br>Sprint=%{x}<br>Burnups=%{y}<extra></extra>",
         "legendgroup": "run7",
         "line": {
          "color": "#B6E880",
          "dash": "solid"
         },
         "mode": "lines",
         "name": "run7",
         "orientation": "v",
         "showlegend": true,
         "type": "scatter",
         "x": [
          1,
          2,
          3,
          4
         ],
         "xaxis": "x",
         "y": [
          15,
          30,
          40,
          60
         ],
         "yaxis": "y"
        },
        {
         "hovertemplate": "Runs=run8<br>Sprint=%{x}<br>Burnups=%{y}<extra></extra>",
         "legendgroup": "run8",
         "line": {
          "color": "#FF97FF",
          "dash": "solid"
         },
         "mode": "lines",
         "name": "run8",
         "orientation": "v",
         "showlegend": true,
         "type": "scatter",
         "x": [
          1,
          2,
          3
         ],
         "xaxis": "x",
         "y": [
          10,
          30,
          50
         ],
         "yaxis": "y"
        },
        {
         "hovertemplate": "Runs=run9<br>Sprint=%{x}<br>Burnups=%{y}<extra></extra>",
         "legendgroup": "run9",
         "line": {
          "color": "#FECB52",
          "dash": "solid"
         },
         "mode": "lines",
         "name": "run9",
         "orientation": "v",
         "showlegend": true,
         "type": "scatter",
         "x": [
          1,
          2,
          3,
          4,
          5
         ],
         "xaxis": "x",
         "y": [
          11,
          19,
          27,
          47,
          58
         ],
         "yaxis": "y"
        },
        {
         "hovertemplate": "Runs=run10<br>Sprint=%{x}<br>Burnups=%{y}<extra></extra>",
         "legendgroup": "run10",
         "line": {
          "color": "#636efa",
          "dash": "solid"
         },
         "mode": "lines",
         "name": "run10",
         "orientation": "v",
         "showlegend": true,
         "type": "scatter",
         "x": [
          1,
          2,
          3,
          4,
          5
         ],
         "xaxis": "x",
         "y": [
          8,
          23,
          34,
          45,
          53
         ],
         "yaxis": "y"
        },
        {
         "hovertemplate": "Runs=run11<br>Sprint=%{x}<br>Burnups=%{y}<extra></extra>",
         "legendgroup": "run11",
         "line": {
          "color": "#EF553B",
          "dash": "solid"
         },
         "mode": "lines",
         "name": "run11",
         "orientation": "v",
         "showlegend": true,
         "type": "scatter",
         "x": [
          1,
          2,
          3,
          4
         ],
         "xaxis": "x",
         "y": [
          11,
          26,
          41,
          61
         ],
         "yaxis": "y"
        },
        {
         "hovertemplate": "Runs=run12<br>Sprint=%{x}<br>Burnups=%{y}<extra></extra>",
         "legendgroup": "run12",
         "line": {
          "color": "#00cc96",
          "dash": "solid"
         },
         "mode": "lines",
         "name": "run12",
         "orientation": "v",
         "showlegend": true,
         "type": "scatter",
         "x": [
          1,
          2,
          3
         ],
         "xaxis": "x",
         "y": [
          20,
          40,
          51
         ],
         "yaxis": "y"
        },
        {
         "hovertemplate": "Runs=run13<br>Sprint=%{x}<br>Burnups=%{y}<extra></extra>",
         "legendgroup": "run13",
         "line": {
          "color": "#ab63fa",
          "dash": "solid"
         },
         "mode": "lines",
         "name": "run13",
         "orientation": "v",
         "showlegend": true,
         "type": "scatter",
         "x": [
          1,
          2,
          3,
          4
         ],
         "xaxis": "x",
         "y": [
          11,
          22,
          32,
          52
         ],
         "yaxis": "y"
        },
        {
         "hovertemplate": "Runs=run14<br>Sprint=%{x}<br>Burnups=%{y}<extra></extra>",
         "legendgroup": "run14",
         "line": {
          "color": "#FFA15A",
          "dash": "solid"
         },
         "mode": "lines",
         "name": "run14",
         "orientation": "v",
         "showlegend": true,
         "type": "scatter",
         "x": [
          1,
          2,
          3
         ],
         "xaxis": "x",
         "y": [
          11,
          31,
          51
         ],
         "yaxis": "y"
        },
        {
         "hovertemplate": "Runs=run15<br>Sprint=%{x}<br>Burnups=%{y}<extra></extra>",
         "legendgroup": "run15",
         "line": {
          "color": "#19d3f3",
          "dash": "solid"
         },
         "mode": "lines",
         "name": "run15",
         "orientation": "v",
         "showlegend": true,
         "type": "scatter",
         "x": [
          1,
          2,
          3,
          4,
          5
         ],
         "xaxis": "x",
         "y": [
          8,
          23,
          33,
          48,
          63
         ],
         "yaxis": "y"
        },
        {
         "hovertemplate": "Runs=run16<br>Sprint=%{x}<br>Burnups=%{y}<extra></extra>",
         "legendgroup": "run16",
         "line": {
          "color": "#FF6692",
          "dash": "solid"
         },
         "mode": "lines",
         "name": "run16",
         "orientation": "v",
         "showlegend": true,
         "type": "scatter",
         "x": [
          1,
          2,
          3,
          4
         ],
         "xaxis": "x",
         "y": [
          20,
          31,
          41,
          56
         ],
         "yaxis": "y"
        },
        {
         "hovertemplate": "Runs=run17<br>Sprint=%{x}<br>Burnups=%{y}<extra></extra>",
         "legendgroup": "run17",
         "line": {
          "color": "#B6E880",
          "dash": "solid"
         },
         "mode": "lines",
         "name": "run17",
         "orientation": "v",
         "showlegend": true,
         "type": "scatter",
         "x": [
          1,
          2,
          3,
          4,
          5
         ],
         "xaxis": "x",
         "y": [
          8,
          19,
          39,
          47,
          67
         ],
         "yaxis": "y"
        },
        {
         "hovertemplate": "Runs=run18<br>Sprint=%{x}<br>Burnups=%{y}<extra></extra>",
         "legendgroup": "run18",
         "line": {
          "color": "#FF97FF",
          "dash": "solid"
         },
         "mode": "lines",
         "name": "run18",
         "orientation": "v",
         "showlegend": true,
         "type": "scatter",
         "x": [
          1,
          2,
          3
         ],
         "xaxis": "x",
         "y": [
          15,
          35,
          50
         ],
         "yaxis": "y"
        },
        {
         "hovertemplate": "Runs=run19<br>Sprint=%{x}<br>Burnups=%{y}<extra></extra>",
         "legendgroup": "run19",
         "line": {
          "color": "#FECB52",
          "dash": "solid"
         },
         "mode": "lines",
         "name": "run19",
         "orientation": "v",
         "showlegend": true,
         "type": "scatter",
         "x": [
          1,
          2,
          3,
          4,
          5
         ],
         "xaxis": "x",
         "y": [
          11,
          19,
          34,
          49,
          60
         ],
         "yaxis": "y"
        },
        {
         "hovertemplate": "Runs=run20<br>Sprint=%{x}<br>Burnups=%{y}<extra></extra>",
         "legendgroup": "run20",
         "line": {
          "color": "#636efa",
          "dash": "solid"
         },
         "mode": "lines",
         "name": "run20",
         "orientation": "v",
         "showlegend": true,
         "type": "scatter",
         "x": [
          1,
          2,
          3
         ],
         "xaxis": "x",
         "y": [
          10,
          30,
          50
         ],
         "yaxis": "y"
        },
        {
         "hovertemplate": "Runs=run21<br>Sprint=%{x}<br>Burnups=%{y}<extra></extra>",
         "legendgroup": "run21",
         "line": {
          "color": "#EF553B",
          "dash": "solid"
         },
         "mode": "lines",
         "name": "run21",
         "orientation": "v",
         "showlegend": true,
         "type": "scatter",
         "x": [
          1,
          2,
          3,
          4,
          5,
          6
         ],
         "xaxis": "x",
         "y": [
          8,
          16,
          27,
          35,
          43,
          51
         ],
         "yaxis": "y"
        },
        {
         "hovertemplate": "Runs=run22<br>Sprint=%{x}<br>Burnups=%{y}<extra></extra>",
         "legendgroup": "run22",
         "line": {
          "color": "#00cc96",
          "dash": "solid"
         },
         "mode": "lines",
         "name": "run22",
         "orientation": "v",
         "showlegend": true,
         "type": "scatter",
         "x": [
          1,
          2,
          3
         ],
         "xaxis": "x",
         "y": [
          20,
          31,
          51
         ],
         "yaxis": "y"
        },
        {
         "hovertemplate": "Runs=run23<br>Sprint=%{x}<br>Burnups=%{y}<extra></extra>",
         "legendgroup": "run23",
         "line": {
          "color": "#ab63fa",
          "dash": "solid"
         },
         "mode": "lines",
         "name": "run23",
         "orientation": "v",
         "showlegend": true,
         "type": "scatter",
         "x": [
          1,
          2,
          3,
          4,
          5
         ],
         "xaxis": "x",
         "y": [
          10,
          21,
          31,
          46,
          57
         ],
         "yaxis": "y"
        },
        {
         "hovertemplate": "Runs=run24<br>Sprint=%{x}<br>Burnups=%{y}<extra></extra>",
         "legendgroup": "run24",
         "line": {
          "color": "#FFA15A",
          "dash": "solid"
         },
         "mode": "lines",
         "name": "run24",
         "orientation": "v",
         "showlegend": true,
         "type": "scatter",
         "x": [
          1,
          2,
          3,
          4,
          5
         ],
         "xaxis": "x",
         "y": [
          15,
          26,
          34,
          49,
          64
         ],
         "yaxis": "y"
        },
        {
         "hovertemplate": "Runs=run25<br>Sprint=%{x}<br>Burnups=%{y}<extra></extra>",
         "legendgroup": "run25",
         "line": {
          "color": "#19d3f3",
          "dash": "solid"
         },
         "mode": "lines",
         "name": "run25",
         "orientation": "v",
         "showlegend": true,
         "type": "scatter",
         "x": [
          1,
          2,
          3,
          4
         ],
         "xaxis": "x",
         "y": [
          20,
          35,
          43,
          58
         ],
         "yaxis": "y"
        },
        {
         "hovertemplate": "Runs=run26<br>Sprint=%{x}<br>Burnups=%{y}<extra></extra>",
         "legendgroup": "run26",
         "line": {
          "color": "#FF6692",
          "dash": "solid"
         },
         "mode": "lines",
         "name": "run26",
         "orientation": "v",
         "showlegend": true,
         "type": "scatter",
         "x": [
          1,
          2,
          3,
          4,
          5
         ],
         "xaxis": "x",
         "y": [
          8,
          28,
          38,
          48,
          63
         ],
         "yaxis": "y"
        },
        {
         "hovertemplate": "Runs=run27<br>Sprint=%{x}<br>Burnups=%{y}<extra></extra>",
         "legendgroup": "run27",
         "line": {
          "color": "#B6E880",
          "dash": "solid"
         },
         "mode": "lines",
         "name": "run27",
         "orientation": "v",
         "showlegend": true,
         "type": "scatter",
         "x": [
          1,
          2,
          3,
          4
         ],
         "xaxis": "x",
         "y": [
          20,
          30,
          40,
          55
         ],
         "yaxis": "y"
        },
        {
         "hovertemplate": "Runs=run28<br>Sprint=%{x}<br>Burnups=%{y}<extra></extra>",
         "legendgroup": "run28",
         "line": {
          "color": "#FF97FF",
          "dash": "solid"
         },
         "mode": "lines",
         "name": "run28",
         "orientation": "v",
         "showlegend": true,
         "type": "scatter",
         "x": [
          1,
          2,
          3,
          4,
          5
         ],
         "xaxis": "x",
         "y": [
          11,
          21,
          29,
          49,
          64
         ],
         "yaxis": "y"
        },
        {
         "hovertemplate": "Runs=run29<br>Sprint=%{x}<br>Burnups=%{y}<extra></extra>",
         "legendgroup": "run29",
         "line": {
          "color": "#FECB52",
          "dash": "solid"
         },
         "mode": "lines",
         "name": "run29",
         "orientation": "v",
         "showlegend": true,
         "type": "scatter",
         "x": [
          1,
          2,
          3,
          4
         ],
         "xaxis": "x",
         "y": [
          20,
          30,
          41,
          51
         ],
         "yaxis": "y"
        },
        {
         "hovertemplate": "Runs=run30<br>Sprint=%{x}<br>Burnups=%{y}<extra></extra>",
         "legendgroup": "run30",
         "line": {
          "color": "#636efa",
          "dash": "solid"
         },
         "mode": "lines",
         "name": "run30",
         "orientation": "v",
         "showlegend": true,
         "type": "scatter",
         "x": [
          1,
          2,
          3,
          4
         ],
         "xaxis": "x",
         "y": [
          10,
          20,
          31,
          51
         ],
         "yaxis": "y"
        },
        {
         "hovertemplate": "Runs=run31<br>Sprint=%{x}<br>Burnups=%{y}<extra></extra>",
         "legendgroup": "run31",
         "line": {
          "color": "#EF553B",
          "dash": "solid"
         },
         "mode": "lines",
         "name": "run31",
         "orientation": "v",
         "showlegend": true,
         "type": "scatter",
         "x": [
          1,
          2,
          3
         ],
         "xaxis": "x",
         "y": [
          20,
          40,
          51
         ],
         "yaxis": "y"
        },
        {
         "hovertemplate": "Runs=run32<br>Sprint=%{x}<br>Burnups=%{y}<extra></extra>",
         "legendgroup": "run32",
         "line": {
          "color": "#00cc96",
          "dash": "solid"
         },
         "mode": "lines",
         "name": "run32",
         "orientation": "v",
         "showlegend": true,
         "type": "scatter",
         "x": [
          1,
          2,
          3,
          4
         ],
         "xaxis": "x",
         "y": [
          8,
          19,
          39,
          54
         ],
         "yaxis": "y"
        },
        {
         "hovertemplate": "Runs=run33<br>Sprint=%{x}<br>Burnups=%{y}<extra></extra>",
         "legendgroup": "run33",
         "line": {
          "color": "#ab63fa",
          "dash": "solid"
         },
         "mode": "lines",
         "name": "run33",
         "orientation": "v",
         "showlegend": true,
         "type": "scatter",
         "x": [
          1,
          2,
          3,
          4
         ],
         "xaxis": "x",
         "y": [
          20,
          28,
          43,
          54
         ],
         "yaxis": "y"
        },
        {
         "hovertemplate": "Runs=run34<br>Sprint=%{x}<br>Burnups=%{y}<extra></extra>",
         "legendgroup": "run34",
         "line": {
          "color": "#FFA15A",
          "dash": "solid"
         },
         "mode": "lines",
         "name": "run34",
         "orientation": "v",
         "showlegend": true,
         "type": "scatter",
         "x": [
          1,
          2,
          3,
          4
         ],
         "xaxis": "x",
         "y": [
          20,
          28,
          36,
          56
         ],
         "yaxis": "y"
        },
        {
         "hovertemplate": "Runs=run35<br>Sprint=%{x}<br>Burnups=%{y}<extra></extra>",
         "legendgroup": "run35",
         "line": {
          "color": "#19d3f3",
          "dash": "solid"
         },
         "mode": "lines",
         "name": "run35",
         "orientation": "v",
         "showlegend": true,
         "type": "scatter",
         "x": [
          1,
          2,
          3,
          4
         ],
         "xaxis": "x",
         "y": [
          20,
          35,
          46,
          56
         ],
         "yaxis": "y"
        },
        {
         "hovertemplate": "Runs=run36<br>Sprint=%{x}<br>Burnups=%{y}<extra></extra>",
         "legendgroup": "run36",
         "line": {
          "color": "#FF6692",
          "dash": "solid"
         },
         "mode": "lines",
         "name": "run36",
         "orientation": "v",
         "showlegend": true,
         "type": "scatter",
         "x": [
          1,
          2,
          3,
          4
         ],
         "xaxis": "x",
         "y": [
          20,
          30,
          45,
          56
         ],
         "yaxis": "y"
        },
        {
         "hovertemplate": "Runs=run37<br>Sprint=%{x}<br>Burnups=%{y}<extra></extra>",
         "legendgroup": "run37",
         "line": {
          "color": "#B6E880",
          "dash": "solid"
         },
         "mode": "lines",
         "name": "run37",
         "orientation": "v",
         "showlegend": true,
         "type": "scatter",
         "x": [
          1,
          2,
          3,
          4
         ],
         "xaxis": "x",
         "y": [
          8,
          28,
          43,
          53
         ],
         "yaxis": "y"
        },
        {
         "hovertemplate": "Runs=run38<br>Sprint=%{x}<br>Burnups=%{y}<extra></extra>",
         "legendgroup": "run38",
         "line": {
          "color": "#FF97FF",
          "dash": "solid"
         },
         "mode": "lines",
         "name": "run38",
         "orientation": "v",
         "showlegend": true,
         "type": "scatter",
         "x": [
          1,
          2,
          3,
          4
         ],
         "xaxis": "x",
         "y": [
          10,
          30,
          41,
          61
         ],
         "yaxis": "y"
        },
        {
         "hovertemplate": "Runs=run39<br>Sprint=%{x}<br>Burnups=%{y}<extra></extra>",
         "legendgroup": "run39",
         "line": {
          "color": "#FECB52",
          "dash": "solid"
         },
         "mode": "lines",
         "name": "run39",
         "orientation": "v",
         "showlegend": true,
         "type": "scatter",
         "x": [
          1,
          2,
          3,
          4,
          5
         ],
         "xaxis": "x",
         "y": [
          15,
          23,
          31,
          42,
          50
         ],
         "yaxis": "y"
        },
        {
         "hovertemplate": "Runs=run40<br>Sprint=%{x}<br>Burnups=%{y}<extra></extra>",
         "legendgroup": "run40",
         "line": {
          "color": "#636efa",
          "dash": "solid"
         },
         "mode": "lines",
         "name": "run40",
         "orientation": "v",
         "showlegend": true,
         "type": "scatter",
         "x": [
          1,
          2,
          3,
          4
         ],
         "xaxis": "x",
         "y": [
          11,
          22,
          32,
          52
         ],
         "yaxis": "y"
        },
        {
         "hovertemplate": "Runs=run41<br>Sprint=%{x}<br>Burnups=%{y}<extra></extra>",
         "legendgroup": "run41",
         "line": {
          "color": "#EF553B",
          "dash": "solid"
         },
         "mode": "lines",
         "name": "run41",
         "orientation": "v",
         "showlegend": true,
         "type": "scatter",
         "x": [
          1,
          2,
          3,
          4,
          5
         ],
         "xaxis": "x",
         "y": [
          11,
          26,
          37,
          45,
          53
         ],
         "yaxis": "y"
        },
        {
         "hovertemplate": "Runs=run42<br>Sprint=%{x}<br>Burnups=%{y}<extra></extra>",
         "legendgroup": "run42",
         "line": {
          "color": "#00cc96",
          "dash": "solid"
         },
         "mode": "lines",
         "name": "run42",
         "orientation": "v",
         "showlegend": true,
         "type": "scatter",
         "x": [
          1,
          2,
          3,
          4
         ],
         "xaxis": "x",
         "y": [
          15,
          26,
          34,
          54
         ],
         "yaxis": "y"
        },
        {
         "hovertemplate": "Runs=run43<br>Sprint=%{x}<br>Burnups=%{y}<extra></extra>",
         "legendgroup": "run43",
         "line": {
          "color": "#ab63fa",
          "dash": "solid"
         },
         "mode": "lines",
         "name": "run43",
         "orientation": "v",
         "showlegend": true,
         "type": "scatter",
         "x": [
          1,
          2,
          3,
          4
         ],
         "xaxis": "x",
         "y": [
          11,
          19,
          34,
          54
         ],
         "yaxis": "y"
        },
        {
         "hovertemplate": "Runs=run44<br>Sprint=%{x}<br>Burnups=%{y}<extra></extra>",
         "legendgroup": "run44",
         "line": {
          "color": "#FFA15A",
          "dash": "solid"
         },
         "mode": "lines",
         "name": "run44",
         "orientation": "v",
         "showlegend": true,
         "type": "scatter",
         "x": [
          1,
          2,
          3,
          4,
          5
         ],
         "xaxis": "x",
         "y": [
          15,
          26,
          37,
          47,
          67
         ],
         "yaxis": "y"
        },
        {
         "hovertemplate": "Runs=run45<br>Sprint=%{x}<br>Burnups=%{y}<extra></extra>",
         "legendgroup": "run45",
         "line": {
          "color": "#19d3f3",
          "dash": "solid"
         },
         "mode": "lines",
         "name": "run45",
         "orientation": "v",
         "showlegend": true,
         "type": "scatter",
         "x": [
          1,
          2,
          3
         ],
         "xaxis": "x",
         "y": [
          20,
          31,
          51
         ],
         "yaxis": "y"
        },
        {
         "hovertemplate": "Runs=run46<br>Sprint=%{x}<br>Burnups=%{y}<extra></extra>",
         "legendgroup": "run46",
         "line": {
          "color": "#FF6692",
          "dash": "solid"
         },
         "mode": "lines",
         "name": "run46",
         "orientation": "v",
         "showlegend": true,
         "type": "scatter",
         "x": [
          1,
          2,
          3
         ],
         "xaxis": "x",
         "y": [
          20,
          30,
          50
         ],
         "yaxis": "y"
        },
        {
         "hovertemplate": "Runs=run47<br>Sprint=%{x}<br>Burnups=%{y}<extra></extra>",
         "legendgroup": "run47",
         "line": {
          "color": "#B6E880",
          "dash": "solid"
         },
         "mode": "lines",
         "name": "run47",
         "orientation": "v",
         "showlegend": true,
         "type": "scatter",
         "x": [
          1,
          2,
          3,
          4,
          5,
          6
         ],
         "xaxis": "x",
         "y": [
          8,
          18,
          28,
          36,
          47,
          62
         ],
         "yaxis": "y"
        },
        {
         "hovertemplate": "Runs=run48<br>Sprint=%{x}<br>Burnups=%{y}<extra></extra>",
         "legendgroup": "run48",
         "line": {
          "color": "#FF97FF",
          "dash": "solid"
         },
         "mode": "lines",
         "name": "run48",
         "orientation": "v",
         "showlegend": true,
         "type": "scatter",
         "x": [
          1,
          2,
          3
         ],
         "xaxis": "x",
         "y": [
          20,
          40,
          51
         ],
         "yaxis": "y"
        },
        {
         "hovertemplate": "Runs=run49<br>Sprint=%{x}<br>Burnups=%{y}<extra></extra>",
         "legendgroup": "run49",
         "line": {
          "color": "#FECB52",
          "dash": "solid"
         },
         "mode": "lines",
         "name": "run49",
         "orientation": "v",
         "showlegend": true,
         "type": "scatter",
         "x": [
          1,
          2,
          3,
          4,
          5
         ],
         "xaxis": "x",
         "y": [
          20,
          30,
          38,
          46,
          61
         ],
         "yaxis": "y"
        },
        {
         "hovertemplate": "Runs=run50<br>Sprint=%{x}<br>Burnups=%{y}<extra></extra>",
         "legendgroup": "run50",
         "line": {
          "color": "#636efa",
          "dash": "solid"
         },
         "mode": "lines",
         "name": "run50",
         "orientation": "v",
         "showlegend": true,
         "type": "scatter",
         "x": [
          1,
          2,
          3,
          4
         ],
         "xaxis": "x",
         "y": [
          15,
          26,
          37,
          57
         ],
         "yaxis": "y"
        },
        {
         "hovertemplate": "Runs=run51<br>Sprint=%{x}<br>Burnups=%{y}<extra></extra>",
         "legendgroup": "run51",
         "line": {
          "color": "#EF553B",
          "dash": "solid"
         },
         "mode": "lines",
         "name": "run51",
         "orientation": "v",
         "showlegend": true,
         "type": "scatter",
         "x": [
          1,
          2,
          3,
          4
         ],
         "xaxis": "x",
         "y": [
          11,
          31,
          41,
          52
         ],
         "yaxis": "y"
        },
        {
         "hovertemplate": "Runs=run52<br>Sprint=%{x}<br>Burnups=%{y}<extra></extra>",
         "legendgroup": "run52",
         "line": {
          "color": "#00cc96",
          "dash": "solid"
         },
         "mode": "lines",
         "name": "run52",
         "orientation": "v",
         "showlegend": true,
         "type": "scatter",
         "x": [
          1,
          2,
          3,
          4
         ],
         "xaxis": "x",
         "y": [
          20,
          28,
          48,
          59
         ],
         "yaxis": "y"
        },
        {
         "hovertemplate": "Runs=run53<br>Sprint=%{x}<br>Burnups=%{y}<extra></extra>",
         "legendgroup": "run53",
         "line": {
          "color": "#ab63fa",
          "dash": "solid"
         },
         "mode": "lines",
         "name": "run53",
         "orientation": "v",
         "showlegend": true,
         "type": "scatter",
         "x": [
          1,
          2,
          3,
          4,
          5
         ],
         "xaxis": "x",
         "y": [
          15,
          30,
          41,
          49,
          57
         ],
         "yaxis": "y"
        },
        {
         "hovertemplate": "Runs=run54<br>Sprint=%{x}<br>Burnups=%{y}<extra></extra>",
         "legendgroup": "run54",
         "line": {
          "color": "#FFA15A",
          "dash": "solid"
         },
         "mode": "lines",
         "name": "run54",
         "orientation": "v",
         "showlegend": true,
         "type": "scatter",
         "x": [
          1,
          2,
          3,
          4
         ],
         "xaxis": "x",
         "y": [
          11,
          26,
          46,
          61
         ],
         "yaxis": "y"
        },
        {
         "hovertemplate": "Runs=run55<br>Sprint=%{x}<br>Burnups=%{y}<extra></extra>",
         "legendgroup": "run55",
         "line": {
          "color": "#19d3f3",
          "dash": "solid"
         },
         "mode": "lines",
         "name": "run55",
         "orientation": "v",
         "showlegend": true,
         "type": "scatter",
         "x": [
          1,
          2,
          3,
          4
         ],
         "xaxis": "x",
         "y": [
          11,
          22,
          42,
          62
         ],
         "yaxis": "y"
        },
        {
         "hovertemplate": "Runs=run56<br>Sprint=%{x}<br>Burnups=%{y}<extra></extra>",
         "legendgroup": "run56",
         "line": {
          "color": "#FF6692",
          "dash": "solid"
         },
         "mode": "lines",
         "name": "run56",
         "orientation": "v",
         "showlegend": true,
         "type": "scatter",
         "x": [
          1,
          2,
          3,
          4
         ],
         "xaxis": "x",
         "y": [
          15,
          25,
          40,
          55
         ],
         "yaxis": "y"
        },
        {
         "hovertemplate": "Runs=run57<br>Sprint=%{x}<br>Burnups=%{y}<extra></extra>",
         "legendgroup": "run57",
         "line": {
          "color": "#B6E880",
          "dash": "solid"
         },
         "mode": "lines",
         "name": "run57",
         "orientation": "v",
         "showlegend": true,
         "type": "scatter",
         "x": [
          1,
          2,
          3,
          4,
          5
         ],
         "xaxis": "x",
         "y": [
          10,
          20,
          31,
          46,
          66
         ],
         "yaxis": "y"
        },
        {
         "hovertemplate": "Runs=run58<br>Sprint=%{x}<br>Burnups=%{y}<extra></extra>",
         "legendgroup": "run58",
         "line": {
          "color": "#FF97FF",
          "dash": "solid"
         },
         "mode": "lines",
         "name": "run58",
         "orientation": "v",
         "showlegend": true,
         "type": "scatter",
         "x": [
          1,
          2,
          3,
          4,
          5
         ],
         "xaxis": "x",
         "y": [
          11,
          26,
          37,
          48,
          58
         ],
         "yaxis": "y"
        },
        {
         "hovertemplate": "Runs=run59<br>Sprint=%{x}<br>Burnups=%{y}<extra></extra>",
         "legendgroup": "run59",
         "line": {
          "color": "#FECB52",
          "dash": "solid"
         },
         "mode": "lines",
         "name": "run59",
         "orientation": "v",
         "showlegend": true,
         "type": "scatter",
         "x": [
          1,
          2,
          3,
          4
         ],
         "xaxis": "x",
         "y": [
          8,
          23,
          31,
          51
         ],
         "yaxis": "y"
        }
       ],
       "layout": {
        "legend": {
         "title": {
          "text": "Runs"
         },
         "tracegroupgap": 0
        },
        "margin": {
         "t": 60
        },
        "template": {
         "data": {
          "bar": [
           {
            "error_x": {
             "color": "#2a3f5f"
            },
            "error_y": {
             "color": "#2a3f5f"
            },
            "marker": {
             "line": {
              "color": "#E5ECF6",
              "width": 0.5
             }
            },
            "type": "bar"
           }
          ],
          "barpolar": [
           {
            "marker": {
             "line": {
              "color": "#E5ECF6",
              "width": 0.5
             }
            },
            "type": "barpolar"
           }
          ],
          "carpet": [
           {
            "aaxis": {
             "endlinecolor": "#2a3f5f",
             "gridcolor": "white",
             "linecolor": "white",
             "minorgridcolor": "white",
             "startlinecolor": "#2a3f5f"
            },
            "baxis": {
             "endlinecolor": "#2a3f5f",
             "gridcolor": "white",
             "linecolor": "white",
             "minorgridcolor": "white",
             "startlinecolor": "#2a3f5f"
            },
            "type": "carpet"
           }
          ],
          "choropleth": [
           {
            "colorbar": {
             "outlinewidth": 0,
             "ticks": ""
            },
            "type": "choropleth"
           }
          ],
          "contour": [
           {
            "colorbar": {
             "outlinewidth": 0,
             "ticks": ""
            },
            "colorscale": [
             [
              0,
              "#0d0887"
             ],
             [
              0.1111111111111111,
              "#46039f"
             ],
             [
              0.2222222222222222,
              "#7201a8"
             ],
             [
              0.3333333333333333,
              "#9c179e"
             ],
             [
              0.4444444444444444,
              "#bd3786"
             ],
             [
              0.5555555555555556,
              "#d8576b"
             ],
             [
              0.6666666666666666,
              "#ed7953"
             ],
             [
              0.7777777777777778,
              "#fb9f3a"
             ],
             [
              0.8888888888888888,
              "#fdca26"
             ],
             [
              1,
              "#f0f921"
             ]
            ],
            "type": "contour"
           }
          ],
          "contourcarpet": [
           {
            "colorbar": {
             "outlinewidth": 0,
             "ticks": ""
            },
            "type": "contourcarpet"
           }
          ],
          "heatmap": [
           {
            "colorbar": {
             "outlinewidth": 0,
             "ticks": ""
            },
            "colorscale": [
             [
              0,
              "#0d0887"
             ],
             [
              0.1111111111111111,
              "#46039f"
             ],
             [
              0.2222222222222222,
              "#7201a8"
             ],
             [
              0.3333333333333333,
              "#9c179e"
             ],
             [
              0.4444444444444444,
              "#bd3786"
             ],
             [
              0.5555555555555556,
              "#d8576b"
             ],
             [
              0.6666666666666666,
              "#ed7953"
             ],
             [
              0.7777777777777778,
              "#fb9f3a"
             ],
             [
              0.8888888888888888,
              "#fdca26"
             ],
             [
              1,
              "#f0f921"
             ]
            ],
            "type": "heatmap"
           }
          ],
          "heatmapgl": [
           {
            "colorbar": {
             "outlinewidth": 0,
             "ticks": ""
            },
            "colorscale": [
             [
              0,
              "#0d0887"
             ],
             [
              0.1111111111111111,
              "#46039f"
             ],
             [
              0.2222222222222222,
              "#7201a8"
             ],
             [
              0.3333333333333333,
              "#9c179e"
             ],
             [
              0.4444444444444444,
              "#bd3786"
             ],
             [
              0.5555555555555556,
              "#d8576b"
             ],
             [
              0.6666666666666666,
              "#ed7953"
             ],
             [
              0.7777777777777778,
              "#fb9f3a"
             ],
             [
              0.8888888888888888,
              "#fdca26"
             ],
             [
              1,
              "#f0f921"
             ]
            ],
            "type": "heatmapgl"
           }
          ],
          "histogram": [
           {
            "marker": {
             "colorbar": {
              "outlinewidth": 0,
              "ticks": ""
             }
            },
            "type": "histogram"
           }
          ],
          "histogram2d": [
           {
            "colorbar": {
             "outlinewidth": 0,
             "ticks": ""
            },
            "colorscale": [
             [
              0,
              "#0d0887"
             ],
             [
              0.1111111111111111,
              "#46039f"
             ],
             [
              0.2222222222222222,
              "#7201a8"
             ],
             [
              0.3333333333333333,
              "#9c179e"
             ],
             [
              0.4444444444444444,
              "#bd3786"
             ],
             [
              0.5555555555555556,
              "#d8576b"
             ],
             [
              0.6666666666666666,
              "#ed7953"
             ],
             [
              0.7777777777777778,
              "#fb9f3a"
             ],
             [
              0.8888888888888888,
              "#fdca26"
             ],
             [
              1,
              "#f0f921"
             ]
            ],
            "type": "histogram2d"
           }
          ],
          "histogram2dcontour": [
           {
            "colorbar": {
             "outlinewidth": 0,
             "ticks": ""
            },
            "colorscale": [
             [
              0,
              "#0d0887"
             ],
             [
              0.1111111111111111,
              "#46039f"
             ],
             [
              0.2222222222222222,
              "#7201a8"
             ],
             [
              0.3333333333333333,
              "#9c179e"
             ],
             [
              0.4444444444444444,
              "#bd3786"
             ],
             [
              0.5555555555555556,
              "#d8576b"
             ],
             [
              0.6666666666666666,
              "#ed7953"
             ],
             [
              0.7777777777777778,
              "#fb9f3a"
             ],
             [
              0.8888888888888888,
              "#fdca26"
             ],
             [
              1,
              "#f0f921"
             ]
            ],
            "type": "histogram2dcontour"
           }
          ],
          "mesh3d": [
           {
            "colorbar": {
             "outlinewidth": 0,
             "ticks": ""
            },
            "type": "mesh3d"
           }
          ],
          "parcoords": [
           {
            "line": {
             "colorbar": {
              "outlinewidth": 0,
              "ticks": ""
             }
            },
            "type": "parcoords"
           }
          ],
          "pie": [
           {
            "automargin": true,
            "type": "pie"
           }
          ],
          "scatter": [
           {
            "marker": {
             "colorbar": {
              "outlinewidth": 0,
              "ticks": ""
             }
            },
            "type": "scatter"
           }
          ],
          "scatter3d": [
           {
            "line": {
             "colorbar": {
              "outlinewidth": 0,
              "ticks": ""
             }
            },
            "marker": {
             "colorbar": {
              "outlinewidth": 0,
              "ticks": ""
             }
            },
            "type": "scatter3d"
           }
          ],
          "scattercarpet": [
           {
            "marker": {
             "colorbar": {
              "outlinewidth": 0,
              "ticks": ""
             }
            },
            "type": "scattercarpet"
           }
          ],
          "scattergeo": [
           {
            "marker": {
             "colorbar": {
              "outlinewidth": 0,
              "ticks": ""
             }
            },
            "type": "scattergeo"
           }
          ],
          "scattergl": [
           {
            "marker": {
             "colorbar": {
              "outlinewidth": 0,
              "ticks": ""
             }
            },
            "type": "scattergl"
           }
          ],
          "scattermapbox": [
           {
            "marker": {
             "colorbar": {
              "outlinewidth": 0,
              "ticks": ""
             }
            },
            "type": "scattermapbox"
           }
          ],
          "scatterpolar": [
           {
            "marker": {
             "colorbar": {
              "outlinewidth": 0,
              "ticks": ""
             }
            },
            "type": "scatterpolar"
           }
          ],
          "scatterpolargl": [
           {
            "marker": {
             "colorbar": {
              "outlinewidth": 0,
              "ticks": ""
             }
            },
            "type": "scatterpolargl"
           }
          ],
          "scatterternary": [
           {
            "marker": {
             "colorbar": {
              "outlinewidth": 0,
              "ticks": ""
             }
            },
            "type": "scatterternary"
           }
          ],
          "surface": [
           {
            "colorbar": {
             "outlinewidth": 0,
             "ticks": ""
            },
            "colorscale": [
             [
              0,
              "#0d0887"
             ],
             [
              0.1111111111111111,
              "#46039f"
             ],
             [
              0.2222222222222222,
              "#7201a8"
             ],
             [
              0.3333333333333333,
              "#9c179e"
             ],
             [
              0.4444444444444444,
              "#bd3786"
             ],
             [
              0.5555555555555556,
              "#d8576b"
             ],
             [
              0.6666666666666666,
              "#ed7953"
             ],
             [
              0.7777777777777778,
              "#fb9f3a"
             ],
             [
              0.8888888888888888,
              "#fdca26"
             ],
             [
              1,
              "#f0f921"
             ]
            ],
            "type": "surface"
           }
          ],
          "table": [
           {
            "cells": {
             "fill": {
              "color": "#EBF0F8"
             },
             "line": {
              "color": "white"
             }
            },
            "header": {
             "fill": {
              "color": "#C8D4E3"
             },
             "line": {
              "color": "white"
             }
            },
            "type": "table"
           }
          ]
         },
         "layout": {
          "annotationdefaults": {
           "arrowcolor": "#2a3f5f",
           "arrowhead": 0,
           "arrowwidth": 1
          },
          "coloraxis": {
           "colorbar": {
            "outlinewidth": 0,
            "ticks": ""
           }
          },
          "colorscale": {
           "diverging": [
            [
             0,
             "#8e0152"
            ],
            [
             0.1,
             "#c51b7d"
            ],
            [
             0.2,
             "#de77ae"
            ],
            [
             0.3,
             "#f1b6da"
            ],
            [
             0.4,
             "#fde0ef"
            ],
            [
             0.5,
             "#f7f7f7"
            ],
            [
             0.6,
             "#e6f5d0"
            ],
            [
             0.7,
             "#b8e186"
            ],
            [
             0.8,
             "#7fbc41"
            ],
            [
             0.9,
             "#4d9221"
            ],
            [
             1,
             "#276419"
            ]
           ],
           "sequential": [
            [
             0,
             "#0d0887"
            ],
            [
             0.1111111111111111,
             "#46039f"
            ],
            [
             0.2222222222222222,
             "#7201a8"
            ],
            [
             0.3333333333333333,
             "#9c179e"
            ],
            [
             0.4444444444444444,
             "#bd3786"
            ],
            [
             0.5555555555555556,
             "#d8576b"
            ],
            [
             0.6666666666666666,
             "#ed7953"
            ],
            [
             0.7777777777777778,
             "#fb9f3a"
            ],
            [
             0.8888888888888888,
             "#fdca26"
            ],
            [
             1,
             "#f0f921"
            ]
           ],
           "sequentialminus": [
            [
             0,
             "#0d0887"
            ],
            [
             0.1111111111111111,
             "#46039f"
            ],
            [
             0.2222222222222222,
             "#7201a8"
            ],
            [
             0.3333333333333333,
             "#9c179e"
            ],
            [
             0.4444444444444444,
             "#bd3786"
            ],
            [
             0.5555555555555556,
             "#d8576b"
            ],
            [
             0.6666666666666666,
             "#ed7953"
            ],
            [
             0.7777777777777778,
             "#fb9f3a"
            ],
            [
             0.8888888888888888,
             "#fdca26"
            ],
            [
             1,
             "#f0f921"
            ]
           ]
          },
          "colorway": [
           "#636efa",
           "#EF553B",
           "#00cc96",
           "#ab63fa",
           "#FFA15A",
           "#19d3f3",
           "#FF6692",
           "#B6E880",
           "#FF97FF",
           "#FECB52"
          ],
          "font": {
           "color": "#2a3f5f"
          },
          "geo": {
           "bgcolor": "white",
           "lakecolor": "white",
           "landcolor": "#E5ECF6",
           "showlakes": true,
           "showland": true,
           "subunitcolor": "white"
          },
          "hoverlabel": {
           "align": "left"
          },
          "hovermode": "closest",
          "mapbox": {
           "style": "light"
          },
          "paper_bgcolor": "white",
          "plot_bgcolor": "#E5ECF6",
          "polar": {
           "angularaxis": {
            "gridcolor": "white",
            "linecolor": "white",
            "ticks": ""
           },
           "bgcolor": "#E5ECF6",
           "radialaxis": {
            "gridcolor": "white",
            "linecolor": "white",
            "ticks": ""
           }
          },
          "scene": {
           "xaxis": {
            "backgroundcolor": "#E5ECF6",
            "gridcolor": "white",
            "gridwidth": 2,
            "linecolor": "white",
            "showbackground": true,
            "ticks": "",
            "zerolinecolor": "white"
           },
           "yaxis": {
            "backgroundcolor": "#E5ECF6",
            "gridcolor": "white",
            "gridwidth": 2,
            "linecolor": "white",
            "showbackground": true,
            "ticks": "",
            "zerolinecolor": "white"
           },
           "zaxis": {
            "backgroundcolor": "#E5ECF6",
            "gridcolor": "white",
            "gridwidth": 2,
            "linecolor": "white",
            "showbackground": true,
            "ticks": "",
            "zerolinecolor": "white"
           }
          },
          "shapedefaults": {
           "line": {
            "color": "#2a3f5f"
           }
          },
          "ternary": {
           "aaxis": {
            "gridcolor": "white",
            "linecolor": "white",
            "ticks": ""
           },
           "baxis": {
            "gridcolor": "white",
            "linecolor": "white",
            "ticks": ""
           },
           "bgcolor": "#E5ECF6",
           "caxis": {
            "gridcolor": "white",
            "linecolor": "white",
            "ticks": ""
           }
          },
          "title": {
           "x": 0.05
          },
          "xaxis": {
           "automargin": true,
           "gridcolor": "white",
           "linecolor": "white",
           "ticks": "",
           "title": {
            "standoff": 15
           },
           "zerolinecolor": "white",
           "zerolinewidth": 2
          },
          "yaxis": {
           "automargin": true,
           "gridcolor": "white",
           "linecolor": "white",
           "ticks": "",
           "title": {
            "standoff": 15
           },
           "zerolinecolor": "white",
           "zerolinewidth": 2
          }
         }
        },
        "xaxis": {
         "anchor": "y",
         "domain": [
          0,
          1
         ],
         "title": {
          "text": "Sprint"
         }
        },
        "yaxis": {
         "anchor": "x",
         "domain": [
          0,
          1
         ],
         "title": {
          "text": "Burnups"
         }
        }
       }
      },
      "text/html": [
       "<div>                            <div id=\"27b25b97-8140-4d0a-900f-7c67221cf2f3\" class=\"plotly-graph-div\" style=\"height:525px; width:100%;\"></div>            <script type=\"text/javascript\">                require([\"plotly\"], function(Plotly) {                    window.PLOTLYENV=window.PLOTLYENV || {};                                    if (document.getElementById(\"27b25b97-8140-4d0a-900f-7c67221cf2f3\")) {                    Plotly.newPlot(                        \"27b25b97-8140-4d0a-900f-7c67221cf2f3\",                        [{\"hovertemplate\": \"Runs=run0<br>Sprint=%{x}<br>Burnups=%{y}<extra></extra>\", \"legendgroup\": \"run0\", \"line\": {\"color\": \"#636efa\", \"dash\": \"solid\"}, \"mode\": \"lines\", \"name\": \"run0\", \"orientation\": \"v\", \"showlegend\": true, \"type\": \"scatter\", \"x\": [1, 2, 3, 4, 5], \"xaxis\": \"x\", \"y\": [11, 22, 32, 47, 57], \"yaxis\": \"y\"}, {\"hovertemplate\": \"Runs=run1<br>Sprint=%{x}<br>Burnups=%{y}<extra></extra>\", \"legendgroup\": \"run1\", \"line\": {\"color\": \"#EF553B\", \"dash\": \"solid\"}, \"mode\": \"lines\", \"name\": \"run1\", \"orientation\": \"v\", \"showlegend\": true, \"type\": \"scatter\", \"x\": [1, 2, 3, 4], \"xaxis\": \"x\", \"y\": [8, 16, 36, 51], \"yaxis\": \"y\"}, {\"hovertemplate\": \"Runs=run2<br>Sprint=%{x}<br>Burnups=%{y}<extra></extra>\", \"legendgroup\": \"run2\", \"line\": {\"color\": \"#00cc96\", \"dash\": \"solid\"}, \"mode\": \"lines\", \"name\": \"run2\", \"orientation\": \"v\", \"showlegend\": true, \"type\": \"scatter\", \"x\": [1, 2, 3, 4], \"xaxis\": \"x\", \"y\": [8, 28, 43, 58], \"yaxis\": \"y\"}, {\"hovertemplate\": \"Runs=run3<br>Sprint=%{x}<br>Burnups=%{y}<extra></extra>\", \"legendgroup\": \"run3\", \"line\": {\"color\": \"#ab63fa\", \"dash\": \"solid\"}, \"mode\": \"lines\", \"name\": \"run3\", \"orientation\": \"v\", \"showlegend\": true, \"type\": \"scatter\", \"x\": [1, 2, 3, 4, 5], \"xaxis\": \"x\", \"y\": [8, 16, 27, 42, 62], \"yaxis\": \"y\"}, {\"hovertemplate\": \"Runs=run4<br>Sprint=%{x}<br>Burnups=%{y}<extra></extra>\", \"legendgroup\": \"run4\", \"line\": {\"color\": \"#FFA15A\", \"dash\": \"solid\"}, \"mode\": \"lines\", \"name\": \"run4\", \"orientation\": \"v\", \"showlegend\": true, \"type\": \"scatter\", \"x\": [1, 2, 3, 4, 5], \"xaxis\": \"x\", \"y\": [11, 26, 41, 49, 59], \"yaxis\": \"y\"}, {\"hovertemplate\": \"Runs=run5<br>Sprint=%{x}<br>Burnups=%{y}<extra></extra>\", \"legendgroup\": \"run5\", \"line\": {\"color\": \"#19d3f3\", \"dash\": \"solid\"}, \"mode\": \"lines\", \"name\": \"run5\", \"orientation\": \"v\", \"showlegend\": true, \"type\": \"scatter\", \"x\": [1, 2, 3, 4, 5], \"xaxis\": \"x\", \"y\": [15, 23, 34, 45, 56], \"yaxis\": \"y\"}, {\"hovertemplate\": \"Runs=run6<br>Sprint=%{x}<br>Burnups=%{y}<extra></extra>\", \"legendgroup\": \"run6\", \"line\": {\"color\": \"#FF6692\", \"dash\": \"solid\"}, \"mode\": \"lines\", \"name\": \"run6\", \"orientation\": \"v\", \"showlegend\": true, \"type\": \"scatter\", \"x\": [1, 2, 3, 4], \"xaxis\": \"x\", \"y\": [10, 30, 38, 58], \"yaxis\": \"y\"}, {\"hovertemplate\": \"Runs=run7<br>Sprint=%{x}<br>Burnups=%{y}<extra></extra>\", \"legendgroup\": \"run7\", \"line\": {\"color\": \"#B6E880\", \"dash\": \"solid\"}, \"mode\": \"lines\", \"name\": \"run7\", \"orientation\": \"v\", \"showlegend\": true, \"type\": \"scatter\", \"x\": [1, 2, 3, 4], \"xaxis\": \"x\", \"y\": [15, 30, 40, 60], \"yaxis\": \"y\"}, {\"hovertemplate\": \"Runs=run8<br>Sprint=%{x}<br>Burnups=%{y}<extra></extra>\", \"legendgroup\": \"run8\", \"line\": {\"color\": \"#FF97FF\", \"dash\": \"solid\"}, \"mode\": \"lines\", \"name\": \"run8\", \"orientation\": \"v\", \"showlegend\": true, \"type\": \"scatter\", \"x\": [1, 2, 3], \"xaxis\": \"x\", \"y\": [10, 30, 50], \"yaxis\": \"y\"}, {\"hovertemplate\": \"Runs=run9<br>Sprint=%{x}<br>Burnups=%{y}<extra></extra>\", \"legendgroup\": \"run9\", \"line\": {\"color\": \"#FECB52\", \"dash\": \"solid\"}, \"mode\": \"lines\", \"name\": \"run9\", \"orientation\": \"v\", \"showlegend\": true, \"type\": \"scatter\", \"x\": [1, 2, 3, 4, 5], \"xaxis\": \"x\", \"y\": [11, 19, 27, 47, 58], \"yaxis\": \"y\"}, {\"hovertemplate\": \"Runs=run10<br>Sprint=%{x}<br>Burnups=%{y}<extra></extra>\", \"legendgroup\": \"run10\", \"line\": {\"color\": \"#636efa\", \"dash\": \"solid\"}, \"mode\": \"lines\", \"name\": \"run10\", \"orientation\": \"v\", \"showlegend\": true, \"type\": \"scatter\", \"x\": [1, 2, 3, 4, 5], \"xaxis\": \"x\", \"y\": [8, 23, 34, 45, 53], \"yaxis\": \"y\"}, {\"hovertemplate\": \"Runs=run11<br>Sprint=%{x}<br>Burnups=%{y}<extra></extra>\", \"legendgroup\": \"run11\", \"line\": {\"color\": \"#EF553B\", \"dash\": \"solid\"}, \"mode\": \"lines\", \"name\": \"run11\", \"orientation\": \"v\", \"showlegend\": true, \"type\": \"scatter\", \"x\": [1, 2, 3, 4], \"xaxis\": \"x\", \"y\": [11, 26, 41, 61], \"yaxis\": \"y\"}, {\"hovertemplate\": \"Runs=run12<br>Sprint=%{x}<br>Burnups=%{y}<extra></extra>\", \"legendgroup\": \"run12\", \"line\": {\"color\": \"#00cc96\", \"dash\": \"solid\"}, \"mode\": \"lines\", \"name\": \"run12\", \"orientation\": \"v\", \"showlegend\": true, \"type\": \"scatter\", \"x\": [1, 2, 3], \"xaxis\": \"x\", \"y\": [20, 40, 51], \"yaxis\": \"y\"}, {\"hovertemplate\": \"Runs=run13<br>Sprint=%{x}<br>Burnups=%{y}<extra></extra>\", \"legendgroup\": \"run13\", \"line\": {\"color\": \"#ab63fa\", \"dash\": \"solid\"}, \"mode\": \"lines\", \"name\": \"run13\", \"orientation\": \"v\", \"showlegend\": true, \"type\": \"scatter\", \"x\": [1, 2, 3, 4], \"xaxis\": \"x\", \"y\": [11, 22, 32, 52], \"yaxis\": \"y\"}, {\"hovertemplate\": \"Runs=run14<br>Sprint=%{x}<br>Burnups=%{y}<extra></extra>\", \"legendgroup\": \"run14\", \"line\": {\"color\": \"#FFA15A\", \"dash\": \"solid\"}, \"mode\": \"lines\", \"name\": \"run14\", \"orientation\": \"v\", \"showlegend\": true, \"type\": \"scatter\", \"x\": [1, 2, 3], \"xaxis\": \"x\", \"y\": [11, 31, 51], \"yaxis\": \"y\"}, {\"hovertemplate\": \"Runs=run15<br>Sprint=%{x}<br>Burnups=%{y}<extra></extra>\", \"legendgroup\": \"run15\", \"line\": {\"color\": \"#19d3f3\", \"dash\": \"solid\"}, \"mode\": \"lines\", \"name\": \"run15\", \"orientation\": \"v\", \"showlegend\": true, \"type\": \"scatter\", \"x\": [1, 2, 3, 4, 5], \"xaxis\": \"x\", \"y\": [8, 23, 33, 48, 63], \"yaxis\": \"y\"}, {\"hovertemplate\": \"Runs=run16<br>Sprint=%{x}<br>Burnups=%{y}<extra></extra>\", \"legendgroup\": \"run16\", \"line\": {\"color\": \"#FF6692\", \"dash\": \"solid\"}, \"mode\": \"lines\", \"name\": \"run16\", \"orientation\": \"v\", \"showlegend\": true, \"type\": \"scatter\", \"x\": [1, 2, 3, 4], \"xaxis\": \"x\", \"y\": [20, 31, 41, 56], \"yaxis\": \"y\"}, {\"hovertemplate\": \"Runs=run17<br>Sprint=%{x}<br>Burnups=%{y}<extra></extra>\", \"legendgroup\": \"run17\", \"line\": {\"color\": \"#B6E880\", \"dash\": \"solid\"}, \"mode\": \"lines\", \"name\": \"run17\", \"orientation\": \"v\", \"showlegend\": true, \"type\": \"scatter\", \"x\": [1, 2, 3, 4, 5], \"xaxis\": \"x\", \"y\": [8, 19, 39, 47, 67], \"yaxis\": \"y\"}, {\"hovertemplate\": \"Runs=run18<br>Sprint=%{x}<br>Burnups=%{y}<extra></extra>\", \"legendgroup\": \"run18\", \"line\": {\"color\": \"#FF97FF\", \"dash\": \"solid\"}, \"mode\": \"lines\", \"name\": \"run18\", \"orientation\": \"v\", \"showlegend\": true, \"type\": \"scatter\", \"x\": [1, 2, 3], \"xaxis\": \"x\", \"y\": [15, 35, 50], \"yaxis\": \"y\"}, {\"hovertemplate\": \"Runs=run19<br>Sprint=%{x}<br>Burnups=%{y}<extra></extra>\", \"legendgroup\": \"run19\", \"line\": {\"color\": \"#FECB52\", \"dash\": \"solid\"}, \"mode\": \"lines\", \"name\": \"run19\", \"orientation\": \"v\", \"showlegend\": true, \"type\": \"scatter\", \"x\": [1, 2, 3, 4, 5], \"xaxis\": \"x\", \"y\": [11, 19, 34, 49, 60], \"yaxis\": \"y\"}, {\"hovertemplate\": \"Runs=run20<br>Sprint=%{x}<br>Burnups=%{y}<extra></extra>\", \"legendgroup\": \"run20\", \"line\": {\"color\": \"#636efa\", \"dash\": \"solid\"}, \"mode\": \"lines\", \"name\": \"run20\", \"orientation\": \"v\", \"showlegend\": true, \"type\": \"scatter\", \"x\": [1, 2, 3], \"xaxis\": \"x\", \"y\": [10, 30, 50], \"yaxis\": \"y\"}, {\"hovertemplate\": \"Runs=run21<br>Sprint=%{x}<br>Burnups=%{y}<extra></extra>\", \"legendgroup\": \"run21\", \"line\": {\"color\": \"#EF553B\", \"dash\": \"solid\"}, \"mode\": \"lines\", \"name\": \"run21\", \"orientation\": \"v\", \"showlegend\": true, \"type\": \"scatter\", \"x\": [1, 2, 3, 4, 5, 6], \"xaxis\": \"x\", \"y\": [8, 16, 27, 35, 43, 51], \"yaxis\": \"y\"}, {\"hovertemplate\": \"Runs=run22<br>Sprint=%{x}<br>Burnups=%{y}<extra></extra>\", \"legendgroup\": \"run22\", \"line\": {\"color\": \"#00cc96\", \"dash\": \"solid\"}, \"mode\": \"lines\", \"name\": \"run22\", \"orientation\": \"v\", \"showlegend\": true, \"type\": \"scatter\", \"x\": [1, 2, 3], \"xaxis\": \"x\", \"y\": [20, 31, 51], \"yaxis\": \"y\"}, {\"hovertemplate\": \"Runs=run23<br>Sprint=%{x}<br>Burnups=%{y}<extra></extra>\", \"legendgroup\": \"run23\", \"line\": {\"color\": \"#ab63fa\", \"dash\": \"solid\"}, \"mode\": \"lines\", \"name\": \"run23\", \"orientation\": \"v\", \"showlegend\": true, \"type\": \"scatter\", \"x\": [1, 2, 3, 4, 5], \"xaxis\": \"x\", \"y\": [10, 21, 31, 46, 57], \"yaxis\": \"y\"}, {\"hovertemplate\": \"Runs=run24<br>Sprint=%{x}<br>Burnups=%{y}<extra></extra>\", \"legendgroup\": \"run24\", \"line\": {\"color\": \"#FFA15A\", \"dash\": \"solid\"}, \"mode\": \"lines\", \"name\": \"run24\", \"orientation\": \"v\", \"showlegend\": true, \"type\": \"scatter\", \"x\": [1, 2, 3, 4, 5], \"xaxis\": \"x\", \"y\": [15, 26, 34, 49, 64], \"yaxis\": \"y\"}, {\"hovertemplate\": \"Runs=run25<br>Sprint=%{x}<br>Burnups=%{y}<extra></extra>\", \"legendgroup\": \"run25\", \"line\": {\"color\": \"#19d3f3\", \"dash\": \"solid\"}, \"mode\": \"lines\", \"name\": \"run25\", \"orientation\": \"v\", \"showlegend\": true, \"type\": \"scatter\", \"x\": [1, 2, 3, 4], \"xaxis\": \"x\", \"y\": [20, 35, 43, 58], \"yaxis\": \"y\"}, {\"hovertemplate\": \"Runs=run26<br>Sprint=%{x}<br>Burnups=%{y}<extra></extra>\", \"legendgroup\": \"run26\", \"line\": {\"color\": \"#FF6692\", \"dash\": \"solid\"}, \"mode\": \"lines\", \"name\": \"run26\", \"orientation\": \"v\", \"showlegend\": true, \"type\": \"scatter\", \"x\": [1, 2, 3, 4, 5], \"xaxis\": \"x\", \"y\": [8, 28, 38, 48, 63], \"yaxis\": \"y\"}, {\"hovertemplate\": \"Runs=run27<br>Sprint=%{x}<br>Burnups=%{y}<extra></extra>\", \"legendgroup\": \"run27\", \"line\": {\"color\": \"#B6E880\", \"dash\": \"solid\"}, \"mode\": \"lines\", \"name\": \"run27\", \"orientation\": \"v\", \"showlegend\": true, \"type\": \"scatter\", \"x\": [1, 2, 3, 4], \"xaxis\": \"x\", \"y\": [20, 30, 40, 55], \"yaxis\": \"y\"}, {\"hovertemplate\": \"Runs=run28<br>Sprint=%{x}<br>Burnups=%{y}<extra></extra>\", \"legendgroup\": \"run28\", \"line\": {\"color\": \"#FF97FF\", \"dash\": \"solid\"}, \"mode\": \"lines\", \"name\": \"run28\", \"orientation\": \"v\", \"showlegend\": true, \"type\": \"scatter\", \"x\": [1, 2, 3, 4, 5], \"xaxis\": \"x\", \"y\": [11, 21, 29, 49, 64], \"yaxis\": \"y\"}, {\"hovertemplate\": \"Runs=run29<br>Sprint=%{x}<br>Burnups=%{y}<extra></extra>\", \"legendgroup\": \"run29\", \"line\": {\"color\": \"#FECB52\", \"dash\": \"solid\"}, \"mode\": \"lines\", \"name\": \"run29\", \"orientation\": \"v\", \"showlegend\": true, \"type\": \"scatter\", \"x\": [1, 2, 3, 4], \"xaxis\": \"x\", \"y\": [20, 30, 41, 51], \"yaxis\": \"y\"}, {\"hovertemplate\": \"Runs=run30<br>Sprint=%{x}<br>Burnups=%{y}<extra></extra>\", \"legendgroup\": \"run30\", \"line\": {\"color\": \"#636efa\", \"dash\": \"solid\"}, \"mode\": \"lines\", \"name\": \"run30\", \"orientation\": \"v\", \"showlegend\": true, \"type\": \"scatter\", \"x\": [1, 2, 3, 4], \"xaxis\": \"x\", \"y\": [10, 20, 31, 51], \"yaxis\": \"y\"}, {\"hovertemplate\": \"Runs=run31<br>Sprint=%{x}<br>Burnups=%{y}<extra></extra>\", \"legendgroup\": \"run31\", \"line\": {\"color\": \"#EF553B\", \"dash\": \"solid\"}, \"mode\": \"lines\", \"name\": \"run31\", \"orientation\": \"v\", \"showlegend\": true, \"type\": \"scatter\", \"x\": [1, 2, 3], \"xaxis\": \"x\", \"y\": [20, 40, 51], \"yaxis\": \"y\"}, {\"hovertemplate\": \"Runs=run32<br>Sprint=%{x}<br>Burnups=%{y}<extra></extra>\", \"legendgroup\": \"run32\", \"line\": {\"color\": \"#00cc96\", \"dash\": \"solid\"}, \"mode\": \"lines\", \"name\": \"run32\", \"orientation\": \"v\", \"showlegend\": true, \"type\": \"scatter\", \"x\": [1, 2, 3, 4], \"xaxis\": \"x\", \"y\": [8, 19, 39, 54], \"yaxis\": \"y\"}, {\"hovertemplate\": \"Runs=run33<br>Sprint=%{x}<br>Burnups=%{y}<extra></extra>\", \"legendgroup\": \"run33\", \"line\": {\"color\": \"#ab63fa\", \"dash\": \"solid\"}, \"mode\": \"lines\", \"name\": \"run33\", \"orientation\": \"v\", \"showlegend\": true, \"type\": \"scatter\", \"x\": [1, 2, 3, 4], \"xaxis\": \"x\", \"y\": [20, 28, 43, 54], \"yaxis\": \"y\"}, {\"hovertemplate\": \"Runs=run34<br>Sprint=%{x}<br>Burnups=%{y}<extra></extra>\", \"legendgroup\": \"run34\", \"line\": {\"color\": \"#FFA15A\", \"dash\": \"solid\"}, \"mode\": \"lines\", \"name\": \"run34\", \"orientation\": \"v\", \"showlegend\": true, \"type\": \"scatter\", \"x\": [1, 2, 3, 4], \"xaxis\": \"x\", \"y\": [20, 28, 36, 56], \"yaxis\": \"y\"}, {\"hovertemplate\": \"Runs=run35<br>Sprint=%{x}<br>Burnups=%{y}<extra></extra>\", \"legendgroup\": \"run35\", \"line\": {\"color\": \"#19d3f3\", \"dash\": \"solid\"}, \"mode\": \"lines\", \"name\": \"run35\", \"orientation\": \"v\", \"showlegend\": true, \"type\": \"scatter\", \"x\": [1, 2, 3, 4], \"xaxis\": \"x\", \"y\": [20, 35, 46, 56], \"yaxis\": \"y\"}, {\"hovertemplate\": \"Runs=run36<br>Sprint=%{x}<br>Burnups=%{y}<extra></extra>\", \"legendgroup\": \"run36\", \"line\": {\"color\": \"#FF6692\", \"dash\": \"solid\"}, \"mode\": \"lines\", \"name\": \"run36\", \"orientation\": \"v\", \"showlegend\": true, \"type\": \"scatter\", \"x\": [1, 2, 3, 4], \"xaxis\": \"x\", \"y\": [20, 30, 45, 56], \"yaxis\": \"y\"}, {\"hovertemplate\": \"Runs=run37<br>Sprint=%{x}<br>Burnups=%{y}<extra></extra>\", \"legendgroup\": \"run37\", \"line\": {\"color\": \"#B6E880\", \"dash\": \"solid\"}, \"mode\": \"lines\", \"name\": \"run37\", \"orientation\": \"v\", \"showlegend\": true, \"type\": \"scatter\", \"x\": [1, 2, 3, 4], \"xaxis\": \"x\", \"y\": [8, 28, 43, 53], \"yaxis\": \"y\"}, {\"hovertemplate\": \"Runs=run38<br>Sprint=%{x}<br>Burnups=%{y}<extra></extra>\", \"legendgroup\": \"run38\", \"line\": {\"color\": \"#FF97FF\", \"dash\": \"solid\"}, \"mode\": \"lines\", \"name\": \"run38\", \"orientation\": \"v\", \"showlegend\": true, \"type\": \"scatter\", \"x\": [1, 2, 3, 4], \"xaxis\": \"x\", \"y\": [10, 30, 41, 61], \"yaxis\": \"y\"}, {\"hovertemplate\": \"Runs=run39<br>Sprint=%{x}<br>Burnups=%{y}<extra></extra>\", \"legendgroup\": \"run39\", \"line\": {\"color\": \"#FECB52\", \"dash\": \"solid\"}, \"mode\": \"lines\", \"name\": \"run39\", \"orientation\": \"v\", \"showlegend\": true, \"type\": \"scatter\", \"x\": [1, 2, 3, 4, 5], \"xaxis\": \"x\", \"y\": [15, 23, 31, 42, 50], \"yaxis\": \"y\"}, {\"hovertemplate\": \"Runs=run40<br>Sprint=%{x}<br>Burnups=%{y}<extra></extra>\", \"legendgroup\": \"run40\", \"line\": {\"color\": \"#636efa\", \"dash\": \"solid\"}, \"mode\": \"lines\", \"name\": \"run40\", \"orientation\": \"v\", \"showlegend\": true, \"type\": \"scatter\", \"x\": [1, 2, 3, 4], \"xaxis\": \"x\", \"y\": [11, 22, 32, 52], \"yaxis\": \"y\"}, {\"hovertemplate\": \"Runs=run41<br>Sprint=%{x}<br>Burnups=%{y}<extra></extra>\", \"legendgroup\": \"run41\", \"line\": {\"color\": \"#EF553B\", \"dash\": \"solid\"}, \"mode\": \"lines\", \"name\": \"run41\", \"orientation\": \"v\", \"showlegend\": true, \"type\": \"scatter\", \"x\": [1, 2, 3, 4, 5], \"xaxis\": \"x\", \"y\": [11, 26, 37, 45, 53], \"yaxis\": \"y\"}, {\"hovertemplate\": \"Runs=run42<br>Sprint=%{x}<br>Burnups=%{y}<extra></extra>\", \"legendgroup\": \"run42\", \"line\": {\"color\": \"#00cc96\", \"dash\": \"solid\"}, \"mode\": \"lines\", \"name\": \"run42\", \"orientation\": \"v\", \"showlegend\": true, \"type\": \"scatter\", \"x\": [1, 2, 3, 4], \"xaxis\": \"x\", \"y\": [15, 26, 34, 54], \"yaxis\": \"y\"}, {\"hovertemplate\": \"Runs=run43<br>Sprint=%{x}<br>Burnups=%{y}<extra></extra>\", \"legendgroup\": \"run43\", \"line\": {\"color\": \"#ab63fa\", \"dash\": \"solid\"}, \"mode\": \"lines\", \"name\": \"run43\", \"orientation\": \"v\", \"showlegend\": true, \"type\": \"scatter\", \"x\": [1, 2, 3, 4], \"xaxis\": \"x\", \"y\": [11, 19, 34, 54], \"yaxis\": \"y\"}, {\"hovertemplate\": \"Runs=run44<br>Sprint=%{x}<br>Burnups=%{y}<extra></extra>\", \"legendgroup\": \"run44\", \"line\": {\"color\": \"#FFA15A\", \"dash\": \"solid\"}, \"mode\": \"lines\", \"name\": \"run44\", \"orientation\": \"v\", \"showlegend\": true, \"type\": \"scatter\", \"x\": [1, 2, 3, 4, 5], \"xaxis\": \"x\", \"y\": [15, 26, 37, 47, 67], \"yaxis\": \"y\"}, {\"hovertemplate\": \"Runs=run45<br>Sprint=%{x}<br>Burnups=%{y}<extra></extra>\", \"legendgroup\": \"run45\", \"line\": {\"color\": \"#19d3f3\", \"dash\": \"solid\"}, \"mode\": \"lines\", \"name\": \"run45\", \"orientation\": \"v\", \"showlegend\": true, \"type\": \"scatter\", \"x\": [1, 2, 3], \"xaxis\": \"x\", \"y\": [20, 31, 51], \"yaxis\": \"y\"}, {\"hovertemplate\": \"Runs=run46<br>Sprint=%{x}<br>Burnups=%{y}<extra></extra>\", \"legendgroup\": \"run46\", \"line\": {\"color\": \"#FF6692\", \"dash\": \"solid\"}, \"mode\": \"lines\", \"name\": \"run46\", \"orientation\": \"v\", \"showlegend\": true, \"type\": \"scatter\", \"x\": [1, 2, 3], \"xaxis\": \"x\", \"y\": [20, 30, 50], \"yaxis\": \"y\"}, {\"hovertemplate\": \"Runs=run47<br>Sprint=%{x}<br>Burnups=%{y}<extra></extra>\", \"legendgroup\": \"run47\", \"line\": {\"color\": \"#B6E880\", \"dash\": \"solid\"}, \"mode\": \"lines\", \"name\": \"run47\", \"orientation\": \"v\", \"showlegend\": true, \"type\": \"scatter\", \"x\": [1, 2, 3, 4, 5, 6], \"xaxis\": \"x\", \"y\": [8, 18, 28, 36, 47, 62], \"yaxis\": \"y\"}, {\"hovertemplate\": \"Runs=run48<br>Sprint=%{x}<br>Burnups=%{y}<extra></extra>\", \"legendgroup\": \"run48\", \"line\": {\"color\": \"#FF97FF\", \"dash\": \"solid\"}, \"mode\": \"lines\", \"name\": \"run48\", \"orientation\": \"v\", \"showlegend\": true, \"type\": \"scatter\", \"x\": [1, 2, 3], \"xaxis\": \"x\", \"y\": [20, 40, 51], \"yaxis\": \"y\"}, {\"hovertemplate\": \"Runs=run49<br>Sprint=%{x}<br>Burnups=%{y}<extra></extra>\", \"legendgroup\": \"run49\", \"line\": {\"color\": \"#FECB52\", \"dash\": \"solid\"}, \"mode\": \"lines\", \"name\": \"run49\", \"orientation\": \"v\", \"showlegend\": true, \"type\": \"scatter\", \"x\": [1, 2, 3, 4, 5], \"xaxis\": \"x\", \"y\": [20, 30, 38, 46, 61], \"yaxis\": \"y\"}, {\"hovertemplate\": \"Runs=run50<br>Sprint=%{x}<br>Burnups=%{y}<extra></extra>\", \"legendgroup\": \"run50\", \"line\": {\"color\": \"#636efa\", \"dash\": \"solid\"}, \"mode\": \"lines\", \"name\": \"run50\", \"orientation\": \"v\", \"showlegend\": true, \"type\": \"scatter\", \"x\": [1, 2, 3, 4], \"xaxis\": \"x\", \"y\": [15, 26, 37, 57], \"yaxis\": \"y\"}, {\"hovertemplate\": \"Runs=run51<br>Sprint=%{x}<br>Burnups=%{y}<extra></extra>\", \"legendgroup\": \"run51\", \"line\": {\"color\": \"#EF553B\", \"dash\": \"solid\"}, \"mode\": \"lines\", \"name\": \"run51\", \"orientation\": \"v\", \"showlegend\": true, \"type\": \"scatter\", \"x\": [1, 2, 3, 4], \"xaxis\": \"x\", \"y\": [11, 31, 41, 52], \"yaxis\": \"y\"}, {\"hovertemplate\": \"Runs=run52<br>Sprint=%{x}<br>Burnups=%{y}<extra></extra>\", \"legendgroup\": \"run52\", \"line\": {\"color\": \"#00cc96\", \"dash\": \"solid\"}, \"mode\": \"lines\", \"name\": \"run52\", \"orientation\": \"v\", \"showlegend\": true, \"type\": \"scatter\", \"x\": [1, 2, 3, 4], \"xaxis\": \"x\", \"y\": [20, 28, 48, 59], \"yaxis\": \"y\"}, {\"hovertemplate\": \"Runs=run53<br>Sprint=%{x}<br>Burnups=%{y}<extra></extra>\", \"legendgroup\": \"run53\", \"line\": {\"color\": \"#ab63fa\", \"dash\": \"solid\"}, \"mode\": \"lines\", \"name\": \"run53\", \"orientation\": \"v\", \"showlegend\": true, \"type\": \"scatter\", \"x\": [1, 2, 3, 4, 5], \"xaxis\": \"x\", \"y\": [15, 30, 41, 49, 57], \"yaxis\": \"y\"}, {\"hovertemplate\": \"Runs=run54<br>Sprint=%{x}<br>Burnups=%{y}<extra></extra>\", \"legendgroup\": \"run54\", \"line\": {\"color\": \"#FFA15A\", \"dash\": \"solid\"}, \"mode\": \"lines\", \"name\": \"run54\", \"orientation\": \"v\", \"showlegend\": true, \"type\": \"scatter\", \"x\": [1, 2, 3, 4], \"xaxis\": \"x\", \"y\": [11, 26, 46, 61], \"yaxis\": \"y\"}, {\"hovertemplate\": \"Runs=run55<br>Sprint=%{x}<br>Burnups=%{y}<extra></extra>\", \"legendgroup\": \"run55\", \"line\": {\"color\": \"#19d3f3\", \"dash\": \"solid\"}, \"mode\": \"lines\", \"name\": \"run55\", \"orientation\": \"v\", \"showlegend\": true, \"type\": \"scatter\", \"x\": [1, 2, 3, 4], \"xaxis\": \"x\", \"y\": [11, 22, 42, 62], \"yaxis\": \"y\"}, {\"hovertemplate\": \"Runs=run56<br>Sprint=%{x}<br>Burnups=%{y}<extra></extra>\", \"legendgroup\": \"run56\", \"line\": {\"color\": \"#FF6692\", \"dash\": \"solid\"}, \"mode\": \"lines\", \"name\": \"run56\", \"orientation\": \"v\", \"showlegend\": true, \"type\": \"scatter\", \"x\": [1, 2, 3, 4], \"xaxis\": \"x\", \"y\": [15, 25, 40, 55], \"yaxis\": \"y\"}, {\"hovertemplate\": \"Runs=run57<br>Sprint=%{x}<br>Burnups=%{y}<extra></extra>\", \"legendgroup\": \"run57\", \"line\": {\"color\": \"#B6E880\", \"dash\": \"solid\"}, \"mode\": \"lines\", \"name\": \"run57\", \"orientation\": \"v\", \"showlegend\": true, \"type\": \"scatter\", \"x\": [1, 2, 3, 4, 5], \"xaxis\": \"x\", \"y\": [10, 20, 31, 46, 66], \"yaxis\": \"y\"}, {\"hovertemplate\": \"Runs=run58<br>Sprint=%{x}<br>Burnups=%{y}<extra></extra>\", \"legendgroup\": \"run58\", \"line\": {\"color\": \"#FF97FF\", \"dash\": \"solid\"}, \"mode\": \"lines\", \"name\": \"run58\", \"orientation\": \"v\", \"showlegend\": true, \"type\": \"scatter\", \"x\": [1, 2, 3, 4, 5], \"xaxis\": \"x\", \"y\": [11, 26, 37, 48, 58], \"yaxis\": \"y\"}, {\"hovertemplate\": \"Runs=run59<br>Sprint=%{x}<br>Burnups=%{y}<extra></extra>\", \"legendgroup\": \"run59\", \"line\": {\"color\": \"#FECB52\", \"dash\": \"solid\"}, \"mode\": \"lines\", \"name\": \"run59\", \"orientation\": \"v\", \"showlegend\": true, \"type\": \"scatter\", \"x\": [1, 2, 3, 4], \"xaxis\": \"x\", \"y\": [8, 23, 31, 51], \"yaxis\": \"y\"}],                        {\"legend\": {\"title\": {\"text\": \"Runs\"}, \"tracegroupgap\": 0}, \"margin\": {\"t\": 60}, \"template\": {\"data\": {\"bar\": [{\"error_x\": {\"color\": \"#2a3f5f\"}, \"error_y\": {\"color\": \"#2a3f5f\"}, \"marker\": {\"line\": {\"color\": \"#E5ECF6\", \"width\": 0.5}}, \"type\": \"bar\"}], \"barpolar\": [{\"marker\": {\"line\": {\"color\": \"#E5ECF6\", \"width\": 0.5}}, \"type\": \"barpolar\"}], \"carpet\": [{\"aaxis\": {\"endlinecolor\": \"#2a3f5f\", \"gridcolor\": \"white\", \"linecolor\": \"white\", \"minorgridcolor\": \"white\", \"startlinecolor\": \"#2a3f5f\"}, \"baxis\": {\"endlinecolor\": \"#2a3f5f\", \"gridcolor\": \"white\", \"linecolor\": \"white\", \"minorgridcolor\": \"white\", \"startlinecolor\": \"#2a3f5f\"}, \"type\": \"carpet\"}], \"choropleth\": [{\"colorbar\": {\"outlinewidth\": 0, \"ticks\": \"\"}, \"type\": \"choropleth\"}], \"contour\": [{\"colorbar\": {\"outlinewidth\": 0, \"ticks\": \"\"}, \"colorscale\": [[0.0, \"#0d0887\"], [0.1111111111111111, \"#46039f\"], [0.2222222222222222, \"#7201a8\"], [0.3333333333333333, \"#9c179e\"], [0.4444444444444444, \"#bd3786\"], [0.5555555555555556, \"#d8576b\"], [0.6666666666666666, \"#ed7953\"], [0.7777777777777778, \"#fb9f3a\"], [0.8888888888888888, \"#fdca26\"], [1.0, \"#f0f921\"]], \"type\": \"contour\"}], \"contourcarpet\": [{\"colorbar\": {\"outlinewidth\": 0, \"ticks\": \"\"}, \"type\": \"contourcarpet\"}], \"heatmap\": [{\"colorbar\": {\"outlinewidth\": 0, \"ticks\": \"\"}, \"colorscale\": [[0.0, \"#0d0887\"], [0.1111111111111111, \"#46039f\"], [0.2222222222222222, \"#7201a8\"], [0.3333333333333333, \"#9c179e\"], [0.4444444444444444, \"#bd3786\"], [0.5555555555555556, \"#d8576b\"], [0.6666666666666666, \"#ed7953\"], [0.7777777777777778, \"#fb9f3a\"], [0.8888888888888888, \"#fdca26\"], [1.0, \"#f0f921\"]], \"type\": \"heatmap\"}], \"heatmapgl\": [{\"colorbar\": {\"outlinewidth\": 0, \"ticks\": \"\"}, \"colorscale\": [[0.0, \"#0d0887\"], [0.1111111111111111, \"#46039f\"], [0.2222222222222222, \"#7201a8\"], [0.3333333333333333, \"#9c179e\"], [0.4444444444444444, \"#bd3786\"], [0.5555555555555556, \"#d8576b\"], [0.6666666666666666, \"#ed7953\"], [0.7777777777777778, \"#fb9f3a\"], [0.8888888888888888, \"#fdca26\"], [1.0, \"#f0f921\"]], \"type\": \"heatmapgl\"}], \"histogram\": [{\"marker\": {\"colorbar\": {\"outlinewidth\": 0, \"ticks\": \"\"}}, \"type\": \"histogram\"}], \"histogram2d\": [{\"colorbar\": {\"outlinewidth\": 0, \"ticks\": \"\"}, \"colorscale\": [[0.0, \"#0d0887\"], [0.1111111111111111, \"#46039f\"], [0.2222222222222222, \"#7201a8\"], [0.3333333333333333, \"#9c179e\"], [0.4444444444444444, \"#bd3786\"], [0.5555555555555556, \"#d8576b\"], [0.6666666666666666, \"#ed7953\"], [0.7777777777777778, \"#fb9f3a\"], [0.8888888888888888, \"#fdca26\"], [1.0, \"#f0f921\"]], \"type\": \"histogram2d\"}], \"histogram2dcontour\": [{\"colorbar\": {\"outlinewidth\": 0, \"ticks\": \"\"}, \"colorscale\": [[0.0, \"#0d0887\"], [0.1111111111111111, \"#46039f\"], [0.2222222222222222, \"#7201a8\"], [0.3333333333333333, \"#9c179e\"], [0.4444444444444444, \"#bd3786\"], [0.5555555555555556, \"#d8576b\"], [0.6666666666666666, \"#ed7953\"], [0.7777777777777778, \"#fb9f3a\"], [0.8888888888888888, \"#fdca26\"], [1.0, \"#f0f921\"]], \"type\": \"histogram2dcontour\"}], \"mesh3d\": [{\"colorbar\": {\"outlinewidth\": 0, \"ticks\": \"\"}, \"type\": \"mesh3d\"}], \"parcoords\": [{\"line\": {\"colorbar\": {\"outlinewidth\": 0, \"ticks\": \"\"}}, \"type\": \"parcoords\"}], \"pie\": [{\"automargin\": true, \"type\": \"pie\"}], \"scatter\": [{\"marker\": {\"colorbar\": {\"outlinewidth\": 0, \"ticks\": \"\"}}, \"type\": \"scatter\"}], \"scatter3d\": [{\"line\": {\"colorbar\": {\"outlinewidth\": 0, \"ticks\": \"\"}}, \"marker\": {\"colorbar\": {\"outlinewidth\": 0, \"ticks\": \"\"}}, \"type\": \"scatter3d\"}], \"scattercarpet\": [{\"marker\": {\"colorbar\": {\"outlinewidth\": 0, \"ticks\": \"\"}}, \"type\": \"scattercarpet\"}], \"scattergeo\": [{\"marker\": {\"colorbar\": {\"outlinewidth\": 0, \"ticks\": \"\"}}, \"type\": \"scattergeo\"}], \"scattergl\": [{\"marker\": {\"colorbar\": {\"outlinewidth\": 0, \"ticks\": \"\"}}, \"type\": \"scattergl\"}], \"scattermapbox\": [{\"marker\": {\"colorbar\": {\"outlinewidth\": 0, \"ticks\": \"\"}}, \"type\": \"scattermapbox\"}], \"scatterpolar\": [{\"marker\": {\"colorbar\": {\"outlinewidth\": 0, \"ticks\": \"\"}}, \"type\": \"scatterpolar\"}], \"scatterpolargl\": [{\"marker\": {\"colorbar\": {\"outlinewidth\": 0, \"ticks\": \"\"}}, \"type\": \"scatterpolargl\"}], \"scatterternary\": [{\"marker\": {\"colorbar\": {\"outlinewidth\": 0, \"ticks\": \"\"}}, \"type\": \"scatterternary\"}], \"surface\": [{\"colorbar\": {\"outlinewidth\": 0, \"ticks\": \"\"}, \"colorscale\": [[0.0, \"#0d0887\"], [0.1111111111111111, \"#46039f\"], [0.2222222222222222, \"#7201a8\"], [0.3333333333333333, \"#9c179e\"], [0.4444444444444444, \"#bd3786\"], [0.5555555555555556, \"#d8576b\"], [0.6666666666666666, \"#ed7953\"], [0.7777777777777778, \"#fb9f3a\"], [0.8888888888888888, \"#fdca26\"], [1.0, \"#f0f921\"]], \"type\": \"surface\"}], \"table\": [{\"cells\": {\"fill\": {\"color\": \"#EBF0F8\"}, \"line\": {\"color\": \"white\"}}, \"header\": {\"fill\": {\"color\": \"#C8D4E3\"}, \"line\": {\"color\": \"white\"}}, \"type\": \"table\"}]}, \"layout\": {\"annotationdefaults\": {\"arrowcolor\": \"#2a3f5f\", \"arrowhead\": 0, \"arrowwidth\": 1}, \"coloraxis\": {\"colorbar\": {\"outlinewidth\": 0, \"ticks\": \"\"}}, \"colorscale\": {\"diverging\": [[0, \"#8e0152\"], [0.1, \"#c51b7d\"], [0.2, \"#de77ae\"], [0.3, \"#f1b6da\"], [0.4, \"#fde0ef\"], [0.5, \"#f7f7f7\"], [0.6, \"#e6f5d0\"], [0.7, \"#b8e186\"], [0.8, \"#7fbc41\"], [0.9, \"#4d9221\"], [1, \"#276419\"]], \"sequential\": [[0.0, \"#0d0887\"], [0.1111111111111111, \"#46039f\"], [0.2222222222222222, \"#7201a8\"], [0.3333333333333333, \"#9c179e\"], [0.4444444444444444, \"#bd3786\"], [0.5555555555555556, \"#d8576b\"], [0.6666666666666666, \"#ed7953\"], [0.7777777777777778, \"#fb9f3a\"], [0.8888888888888888, \"#fdca26\"], [1.0, \"#f0f921\"]], \"sequentialminus\": [[0.0, \"#0d0887\"], [0.1111111111111111, \"#46039f\"], [0.2222222222222222, \"#7201a8\"], [0.3333333333333333, \"#9c179e\"], [0.4444444444444444, \"#bd3786\"], [0.5555555555555556, \"#d8576b\"], [0.6666666666666666, \"#ed7953\"], [0.7777777777777778, \"#fb9f3a\"], [0.8888888888888888, \"#fdca26\"], [1.0, \"#f0f921\"]]}, \"colorway\": [\"#636efa\", \"#EF553B\", \"#00cc96\", \"#ab63fa\", \"#FFA15A\", \"#19d3f3\", \"#FF6692\", \"#B6E880\", \"#FF97FF\", \"#FECB52\"], \"font\": {\"color\": \"#2a3f5f\"}, \"geo\": {\"bgcolor\": \"white\", \"lakecolor\": \"white\", \"landcolor\": \"#E5ECF6\", \"showlakes\": true, \"showland\": true, \"subunitcolor\": \"white\"}, \"hoverlabel\": {\"align\": \"left\"}, \"hovermode\": \"closest\", \"mapbox\": {\"style\": \"light\"}, \"paper_bgcolor\": \"white\", \"plot_bgcolor\": \"#E5ECF6\", \"polar\": {\"angularaxis\": {\"gridcolor\": \"white\", \"linecolor\": \"white\", \"ticks\": \"\"}, \"bgcolor\": \"#E5ECF6\", \"radialaxis\": {\"gridcolor\": \"white\", \"linecolor\": \"white\", \"ticks\": \"\"}}, \"scene\": {\"xaxis\": {\"backgroundcolor\": \"#E5ECF6\", \"gridcolor\": \"white\", \"gridwidth\": 2, \"linecolor\": \"white\", \"showbackground\": true, \"ticks\": \"\", \"zerolinecolor\": \"white\"}, \"yaxis\": {\"backgroundcolor\": \"#E5ECF6\", \"gridcolor\": \"white\", \"gridwidth\": 2, \"linecolor\": \"white\", \"showbackground\": true, \"ticks\": \"\", \"zerolinecolor\": \"white\"}, \"zaxis\": {\"backgroundcolor\": \"#E5ECF6\", \"gridcolor\": \"white\", \"gridwidth\": 2, \"linecolor\": \"white\", \"showbackground\": true, \"ticks\": \"\", \"zerolinecolor\": \"white\"}}, \"shapedefaults\": {\"line\": {\"color\": \"#2a3f5f\"}}, \"ternary\": {\"aaxis\": {\"gridcolor\": \"white\", \"linecolor\": \"white\", \"ticks\": \"\"}, \"baxis\": {\"gridcolor\": \"white\", \"linecolor\": \"white\", \"ticks\": \"\"}, \"bgcolor\": \"#E5ECF6\", \"caxis\": {\"gridcolor\": \"white\", \"linecolor\": \"white\", \"ticks\": \"\"}}, \"title\": {\"x\": 0.05}, \"xaxis\": {\"automargin\": true, \"gridcolor\": \"white\", \"linecolor\": \"white\", \"ticks\": \"\", \"title\": {\"standoff\": 15}, \"zerolinecolor\": \"white\", \"zerolinewidth\": 2}, \"yaxis\": {\"automargin\": true, \"gridcolor\": \"white\", \"linecolor\": \"white\", \"ticks\": \"\", \"title\": {\"standoff\": 15}, \"zerolinecolor\": \"white\", \"zerolinewidth\": 2}}}, \"xaxis\": {\"anchor\": \"y\", \"domain\": [0.0, 1.0], \"title\": {\"text\": \"Sprint\"}}, \"yaxis\": {\"anchor\": \"x\", \"domain\": [0.0, 1.0], \"title\": {\"text\": \"Burnups\"}}},                        {\"responsive\": true}                    ).then(function(){\n",
       "                            \n",
       "var gd = document.getElementById('27b25b97-8140-4d0a-900f-7c67221cf2f3');\n",
       "var x = new MutationObserver(function (mutations, observer) {{\n",
       "        var display = window.getComputedStyle(gd).display;\n",
       "        if (!display || display === 'none') {{\n",
       "            console.log([gd, 'removed!']);\n",
       "            Plotly.purge(gd);\n",
       "            observer.disconnect();\n",
       "        }}\n",
       "}});\n",
       "\n",
       "// Listen for the removal of the full notebook cells\n",
       "var notebookContainer = gd.closest('#notebook-container');\n",
       "if (notebookContainer) {{\n",
       "    x.observe(notebookContainer, {childList: true});\n",
       "}}\n",
       "\n",
       "// Listen for the clearing of the current output cell\n",
       "var outputEl = gd.closest('.output');\n",
       "if (outputEl) {{\n",
       "    x.observe(outputEl, {childList: true});\n",
       "}}\n",
       "\n",
       "                        })                };                });            </script>        </div>"
      ]
     },
     "metadata": {},
     "output_type": "display_data"
    }
   ],
   "source": [
    "import plotly.express as px\n",
    "\n",
    "fig = px.line(df, x=\"Sprint\", y=\"Burnups\", color=\"Runs\", line_group=\"Runs\")\n",
    "fig.show()"
   ]
  },
  {
   "cell_type": "code",
   "execution_count": null,
   "metadata": {},
   "outputs": [],
   "source": []
  }
 ],
 "metadata": {
  "kernelspec": {
   "display_name": "Python 3",
   "language": "python",
   "name": "python3"
  },
  "language_info": {
   "codemirror_mode": {
    "name": "ipython",
    "version": 3
   },
   "file_extension": ".py",
   "mimetype": "text/x-python",
   "name": "python",
   "nbconvert_exporter": "python",
   "pygments_lexer": "ipython3",
   "version": "3.7.3"
  }
 },
 "nbformat": 4,
 "nbformat_minor": 4
}
